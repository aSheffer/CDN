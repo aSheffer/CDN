{
 "cells": [
  {
   "cell_type": "code",
   "execution_count": 1,
   "metadata": {
    "collapsed": true
   },
   "outputs": [],
   "source": [
    "import tensorflow as tf\n",
    "import numpy as np\n",
    "import json"
   ]
  },
  {
   "cell_type": "code",
   "execution_count": 8,
   "metadata": {
    "collapsed": false
   },
   "outputs": [
    {
     "name": "stdout",
     "output_type": "stream",
     "text": [
      "False <class 'numpy.float32'>\n"
     ]
    }
   ],
   "source": [
    "a = np.float32(0.5)\n",
    "print(np.isnan(a), type(a))"
   ]
  },
  {
   "cell_type": "code",
   "execution_count": 110,
   "metadata": {
    "collapsed": false
   },
   "outputs": [
    {
     "name": "stdout",
     "output_type": "stream",
     "text": [
      "Number of words: 8242\n"
     ]
    }
   ],
   "source": [
    "# w2c words vectors\n",
    "embed_vecs = np.load(open(embed_path, 'rb')).astype(np.float32)\n",
    "\n",
    "with open(vocab_file, 'r') as f:\n",
    "    vocab = json.loads(f.read())\n",
    "vocab['<unk>'] = len(vocab)\n",
    "\n",
    "print(\"Number of words:\", len(vocab))"
   ]
  },
  {
   "cell_type": "code",
   "execution_count": 94,
   "metadata": {
    "collapsed": false
   },
   "outputs": [],
   "source": [
    "tf.reset_default_graph()\n",
    "\n",
    "with tf.variable_scope('w2v'):\n",
    "            w2v_embed = tf.get_variable('w2v_embed', initializer=embed_vecs, trainable=False)\n",
    "            w2v_queries = tf.nn.embedding_lookup(w2v_embed, self.queries, name='w2v_queries')\n",
    "\n",
    "# embed is the trainable embedding matrix\n",
    "with tf.variable_scope('embed'):\n",
    "    embed = tf.get_variable('embed', shape=[voc_size, self.embed_size], \n",
    "                            initializer=tf.random_uniform_initializer(minval=-0.1, maxval=0.1))\n",
    "    embed_queries_tmp = tf.nn.embedding_lookup(embed, self.queries, name='embed_queries')\n",
    "\n",
    "\n",
    "sess = tf.Session()\n",
    "with sess.as_default():\n",
    "    tf.global_variables_initializer().run()\n",
    "    embed_queries, outputs, last_states = sess.run([embed_queries, outputs, last_states])"
   ]
  },
  {
   "cell_type": "code",
   "execution_count": 104,
   "metadata": {
    "collapsed": false
   },
   "outputs": [
    {
     "name": "stdout",
     "output_type": "stream",
     "text": [
      "[1, 2, 3]\n",
      "[1, -123, 2, 3]\n"
     ]
    }
   ],
   "source": [
    "a = [1,2,3]\n",
    "print(a)\n",
    "a.insert(1, -123)\n",
    "print(a)"
   ]
  },
  {
   "cell_type": "code",
   "execution_count": null,
   "metadata": {
    "collapsed": true
   },
   "outputs": [],
   "source": []
  },
  {
   "cell_type": "code",
   "execution_count": null,
   "metadata": {
    "collapsed": true
   },
   "outputs": [],
   "source": []
  },
  {
   "cell_type": "code",
   "execution_count": 95,
   "metadata": {
    "collapsed": false
   },
   "outputs": [
    {
     "data": {
      "text/plain": [
       "array([[[ 0.06084399,  0.0768529 , -0.03049651],\n",
       "        [-0.20421889,  0.13484994,  0.01244315],\n",
       "        [ 0.        ,  0.        ,  0.        ],\n",
       "        [ 0.        ,  0.        ,  0.        ],\n",
       "        [ 0.        ,  0.        ,  0.        ],\n",
       "        [ 0.        ,  0.        ,  0.        ],\n",
       "        [ 0.        ,  0.        ,  0.        ],\n",
       "        [ 0.        ,  0.        ,  0.        ],\n",
       "        [ 0.        ,  0.        ,  0.        ],\n",
       "        [ 0.        ,  0.        ,  0.        ],\n",
       "        [ 0.        ,  0.        ,  0.        ],\n",
       "        [ 0.        ,  0.        ,  0.        ],\n",
       "        [ 0.        ,  0.        ,  0.        ],\n",
       "        [ 0.        ,  0.        ,  0.        ],\n",
       "        [ 0.        ,  0.        ,  0.        ],\n",
       "        [ 0.        ,  0.        ,  0.        ],\n",
       "        [ 0.        ,  0.        ,  0.        ],\n",
       "        [ 0.        ,  0.        ,  0.        ],\n",
       "        [ 0.        ,  0.        ,  0.        ],\n",
       "        [ 0.        ,  0.        ,  0.        ],\n",
       "        [ 0.        ,  0.        ,  0.        ]],\n",
       "\n",
       "       [[-0.08313734,  0.26145694,  0.12345314],\n",
       "        [-0.16792135,  0.28853628,  0.17998734],\n",
       "        [ 0.07986402,  0.0282373 ,  0.00173636],\n",
       "        [ 0.        ,  0.        ,  0.        ],\n",
       "        [ 0.        ,  0.        ,  0.        ],\n",
       "        [ 0.        ,  0.        ,  0.        ],\n",
       "        [ 0.        ,  0.        ,  0.        ],\n",
       "        [ 0.        ,  0.        ,  0.        ],\n",
       "        [ 0.        ,  0.        ,  0.        ],\n",
       "        [ 0.        ,  0.        ,  0.        ],\n",
       "        [ 0.        ,  0.        ,  0.        ],\n",
       "        [ 0.        ,  0.        ,  0.        ],\n",
       "        [ 0.        ,  0.        ,  0.        ],\n",
       "        [ 0.        ,  0.        ,  0.        ],\n",
       "        [ 0.        ,  0.        ,  0.        ],\n",
       "        [ 0.        ,  0.        ,  0.        ],\n",
       "        [ 0.        ,  0.        ,  0.        ],\n",
       "        [ 0.        ,  0.        ,  0.        ],\n",
       "        [ 0.        ,  0.        ,  0.        ],\n",
       "        [ 0.        ,  0.        ,  0.        ],\n",
       "        [ 0.        ,  0.        ,  0.        ]],\n",
       "\n",
       "       [[ 0.09100171,  0.11022255, -0.04421761],\n",
       "        [ 0.0133343 ,  0.32032868,  0.17799687],\n",
       "        [ 0.10509402,  0.15440103, -0.0196162 ],\n",
       "        [ 0.12310117,  0.29561576, -0.06203169],\n",
       "        [ 0.13335349,  0.17930438, -0.05239413],\n",
       "        [-0.01434054,  0.01829015, -0.05896909],\n",
       "        [ 0.        ,  0.        ,  0.        ],\n",
       "        [ 0.        ,  0.        ,  0.        ],\n",
       "        [ 0.        ,  0.        ,  0.        ],\n",
       "        [ 0.        ,  0.        ,  0.        ],\n",
       "        [ 0.        ,  0.        ,  0.        ],\n",
       "        [ 0.        ,  0.        ,  0.        ],\n",
       "        [ 0.        ,  0.        ,  0.        ],\n",
       "        [ 0.        ,  0.        ,  0.        ],\n",
       "        [ 0.        ,  0.        ,  0.        ],\n",
       "        [ 0.        ,  0.        ,  0.        ],\n",
       "        [ 0.        ,  0.        ,  0.        ],\n",
       "        [ 0.        ,  0.        ,  0.        ],\n",
       "        [ 0.        ,  0.        ,  0.        ],\n",
       "        [ 0.        ,  0.        ,  0.        ],\n",
       "        [ 0.        ,  0.        ,  0.        ]],\n",
       "\n",
       "       [[-0.02070746, -0.08672583,  0.12338173],\n",
       "        [ 0.        ,  0.        ,  0.        ],\n",
       "        [ 0.        ,  0.        ,  0.        ],\n",
       "        [ 0.        ,  0.        ,  0.        ],\n",
       "        [ 0.        ,  0.        ,  0.        ],\n",
       "        [ 0.        ,  0.        ,  0.        ],\n",
       "        [ 0.        ,  0.        ,  0.        ],\n",
       "        [ 0.        ,  0.        ,  0.        ],\n",
       "        [ 0.        ,  0.        ,  0.        ],\n",
       "        [ 0.        ,  0.        ,  0.        ],\n",
       "        [ 0.        ,  0.        ,  0.        ],\n",
       "        [ 0.        ,  0.        ,  0.        ],\n",
       "        [ 0.        ,  0.        ,  0.        ],\n",
       "        [ 0.        ,  0.        ,  0.        ],\n",
       "        [ 0.        ,  0.        ,  0.        ],\n",
       "        [ 0.        ,  0.        ,  0.        ],\n",
       "        [ 0.        ,  0.        ,  0.        ],\n",
       "        [ 0.        ,  0.        ,  0.        ],\n",
       "        [ 0.        ,  0.        ,  0.        ],\n",
       "        [ 0.        ,  0.        ,  0.        ],\n",
       "        [ 0.        ,  0.        ,  0.        ]],\n",
       "\n",
       "       [[ 0.15709402, -0.06888773, -0.15085526],\n",
       "        [ 0.02399372,  0.065124  ,  0.04481383],\n",
       "        [ 0.04317265, -0.02948122,  0.06114113],\n",
       "        [-0.12962012,  0.00557519,  0.05484684],\n",
       "        [-0.17959866,  0.08544656,  0.09922595],\n",
       "        [-0.36741111, -0.12296149,  0.14976682],\n",
       "        [-0.49095598, -0.09896638,  0.04729217],\n",
       "        [ 0.        ,  0.        ,  0.        ],\n",
       "        [ 0.        ,  0.        ,  0.        ],\n",
       "        [ 0.        ,  0.        ,  0.        ],\n",
       "        [ 0.        ,  0.        ,  0.        ],\n",
       "        [ 0.        ,  0.        ,  0.        ],\n",
       "        [ 0.        ,  0.        ,  0.        ],\n",
       "        [ 0.        ,  0.        ,  0.        ],\n",
       "        [ 0.        ,  0.        ,  0.        ],\n",
       "        [ 0.        ,  0.        ,  0.        ],\n",
       "        [ 0.        ,  0.        ,  0.        ],\n",
       "        [ 0.        ,  0.        ,  0.        ],\n",
       "        [ 0.        ,  0.        ,  0.        ],\n",
       "        [ 0.        ,  0.        ,  0.        ],\n",
       "        [ 0.        ,  0.        ,  0.        ]],\n",
       "\n",
       "       [[ 0.04017901,  0.01867953, -0.02876181],\n",
       "        [ 0.10211648,  0.14084038, -0.07157663],\n",
       "        [ 0.        ,  0.        ,  0.        ],\n",
       "        [ 0.        ,  0.        ,  0.        ],\n",
       "        [ 0.        ,  0.        ,  0.        ],\n",
       "        [ 0.        ,  0.        ,  0.        ],\n",
       "        [ 0.        ,  0.        ,  0.        ],\n",
       "        [ 0.        ,  0.        ,  0.        ],\n",
       "        [ 0.        ,  0.        ,  0.        ],\n",
       "        [ 0.        ,  0.        ,  0.        ],\n",
       "        [ 0.        ,  0.        ,  0.        ],\n",
       "        [ 0.        ,  0.        ,  0.        ],\n",
       "        [ 0.        ,  0.        ,  0.        ],\n",
       "        [ 0.        ,  0.        ,  0.        ],\n",
       "        [ 0.        ,  0.        ,  0.        ],\n",
       "        [ 0.        ,  0.        ,  0.        ],\n",
       "        [ 0.        ,  0.        ,  0.        ],\n",
       "        [ 0.        ,  0.        ,  0.        ],\n",
       "        [ 0.        ,  0.        ,  0.        ],\n",
       "        [ 0.        ,  0.        ,  0.        ],\n",
       "        [ 0.        ,  0.        ,  0.        ]]], dtype=float32)"
      ]
     },
     "execution_count": 95,
     "metadata": {},
     "output_type": "execute_result"
    }
   ],
   "source": [
    "outputs"
   ]
  },
  {
   "cell_type": "code",
   "execution_count": null,
   "metadata": {
    "collapsed": true
   },
   "outputs": [],
   "source": []
  },
  {
   "cell_type": "code",
   "execution_count": null,
   "metadata": {
    "collapsed": true
   },
   "outputs": [],
   "source": []
  },
  {
   "cell_type": "code",
   "execution_count": null,
   "metadata": {
    "collapsed": true
   },
   "outputs": [],
   "source": []
  },
  {
   "cell_type": "code",
   "execution_count": 83,
   "metadata": {
    "collapsed": false
   },
   "outputs": [],
   "source": [
    "tf.reset_default_graph()\n",
    "\n",
    "batch_size = 4\n",
    "attn_size = 3\n",
    "attn_dims = 2\n",
    "num_units = 5\n",
    "\n",
    "v = tf.Variable(np.random.randn(batch_size, attn_size, attn_dims), name = 'v', dtype=tf.float32)\n",
    "attn_vecs = tf.reshape(v, [batch_size, attn_size, 1, attn_dims])\n",
    "W = tf.get_variable(\"attn_W\", [1, 1, attn_dims, num_units]) #[filter_height, filter_width, in_channels, out_channels] (filter)\n",
    "hidden_attn = tf.nn.conv2d(attn_vecs, W, [1, 1, 1, 1], \"SAME\")\n",
    "\n",
    "x = tf.Variable(np.array([1,2,3,4,5]), name = 'x', dtype=tf.float32)\n",
    "logits = tf.reduce_sum(x*hidden_attn, [2,3])\n",
    "max_logits = tf.reduce_max(logits, axis=-1)\n",
    "masked_logits = tf.exp(logits-tf.expand_dims(max_logits, axis=1))\n",
    "alpha = masked_logits/tf.reduce_sum(masked_logits, axis=-1, keep_dims=True)\n",
    "\n",
    "a = tf.reshape(alpha, [-1, attn_size, 1, 1]) * attn_vecs\n",
    "\n",
    "sess = tf.Session()\n",
    "with sess.as_default():\n",
    "    tf.global_variables_initializer().run()\n",
    "    a, alpha, masked_logits, max_logits, logits, v, attn_vecs, W, hidden_attn = sess.run([a, alpha, masked_logits, max_logits, logits, v, attn_vecs, W, hidden_attn])"
   ]
  },
  {
   "cell_type": "code",
   "execution_count": 84,
   "metadata": {
    "collapsed": false
   },
   "outputs": [
    {
     "data": {
      "text/plain": [
       "array([[[[ -1.37593257e+00,   6.00691698e-02,  -3.25912356e-01,\n",
       "            6.63052797e-01,  -6.85074449e-01]],\n",
       "\n",
       "        [[ -1.99990106e+00,   2.49359012e-01,  -3.44775528e-01,\n",
       "            9.44926739e-01,  -1.02865183e+00]],\n",
       "\n",
       "        [[  1.61426142e-01,   7.67133310e-02,   1.04880467e-01,\n",
       "           -8.75139534e-02,   6.33659288e-02]]],\n",
       "\n",
       "\n",
       "       [[[ -4.97249812e-01,  -5.80771089e-01,  -5.97143233e-01,\n",
       "            3.09563190e-01,  -1.25244543e-01]],\n",
       "\n",
       "        [[  1.65966117e+00,  -2.74857342e-01,   2.32077956e-01,\n",
       "           -7.76282966e-01,   8.67440641e-01]],\n",
       "\n",
       "        [[  3.61015677e-01,   7.44943768e-02,   1.57323897e-01,\n",
       "           -1.84448764e-01,   1.61422461e-01]]],\n",
       "\n",
       "\n",
       "       [[[  5.40452242e-01,  -4.61005598e-01,  -2.20010012e-01,\n",
       "           -2.09661350e-01,   3.57907832e-01]],\n",
       "\n",
       "        [[ -1.48224163e+00,  -1.54925976e-02,  -4.14906651e-01,\n",
       "            7.23593175e-01,  -7.21720099e-01]],\n",
       "\n",
       "        [[  1.16677487e+00,   1.45265681e-03,   3.18054348e-01,\n",
       "           -5.68343043e-01,   5.70297062e-01]]],\n",
       "\n",
       "\n",
       "       [[[  1.39109361e+00,  -2.24362567e-01,   1.99310482e-01,\n",
       "           -6.51362836e-01,   7.25848973e-01]],\n",
       "\n",
       "        [[ -2.71622133e+00,   4.00791705e-01,  -4.18842554e-01,\n",
       "            1.27616739e+00,  -1.40970540e+00]],\n",
       "\n",
       "        [[  2.24171534e-01,  -8.75420310e-03,   5.39202094e-02,\n",
       "           -1.08146638e-01,   1.11404978e-01]]]], dtype=float32)"
      ]
     },
     "execution_count": 84,
     "metadata": {},
     "output_type": "execute_result"
    }
   ],
   "source": [
    "hidden_attn  "
   ]
  },
  {
   "cell_type": "code",
   "execution_count": 85,
   "metadata": {
    "collapsed": false
   },
   "outputs": [
    {
     "data": {
      "text/plain": [
       "array([[-3.00669241, -3.89906168,  0.59626806],\n",
       "       [-2.83819151,  3.0382514 ,  1.05129337],\n",
       "       [-0.09069538, -3.47217488,  2.70195627],\n",
       "       [ 2.56409335, -5.11502266,  0.49286211]], dtype=float32)"
      ]
     },
     "execution_count": 85,
     "metadata": {},
     "output_type": "execute_result"
    }
   ],
   "source": [
    "logits"
   ]
  },
  {
   "cell_type": "code",
   "execution_count": 86,
   "metadata": {
    "collapsed": false
   },
   "outputs": [
    {
     "data": {
      "text/plain": [
       "array([ 0.59626806,  3.0382514 ,  2.70195627,  2.56409335], dtype=float32)"
      ]
     },
     "execution_count": 86,
     "metadata": {},
     "output_type": "execute_result"
    }
   ],
   "source": [
    "max_logits"
   ]
  },
  {
   "cell_type": "code",
   "execution_count": 87,
   "metadata": {
    "collapsed": false
   },
   "outputs": [
    {
     "data": {
      "text/plain": [
       "array([[  2.72429474e-02,   1.11609986e-02,   1.00000000e+00],\n",
       "       [  2.80474429e-03,   1.00000000e+00,   1.37111887e-01],\n",
       "       [  6.12585619e-02,   2.08261423e-03,   1.00000000e+00],\n",
       "       [  1.00000000e+00,   4.62383352e-04,   1.26030505e-01]], dtype=float32)"
      ]
     },
     "execution_count": 87,
     "metadata": {},
     "output_type": "execute_result"
    }
   ],
   "source": [
    "masked_logits"
   ]
  },
  {
   "cell_type": "code",
   "execution_count": 88,
   "metadata": {
    "collapsed": false
   },
   "outputs": [
    {
     "data": {
      "text/plain": [
       "array([[  2.62354035e-02,   1.07482243e-02,   9.63016331e-01],\n",
       "       [  2.46048183e-03,   8.77257109e-01,   1.20282382e-01],\n",
       "       [  5.76095097e-02,   1.95855694e-03,   9.40431952e-01],\n",
       "       [  8.87710810e-01,   4.10462701e-04,   1.11878641e-01]], dtype=float32)"
      ]
     },
     "execution_count": 88,
     "metadata": {},
     "output_type": "execute_result"
    }
   ],
   "source": [
    "alpha"
   ]
  },
  {
   "cell_type": "code",
   "execution_count": 89,
   "metadata": {
    "collapsed": false
   },
   "outputs": [
    {
     "data": {
      "text/plain": [
       "array([[[[ -2.36754753e-02,  -2.00082399e-02]],\n",
       "\n",
       "        [[ -9.64023080e-03,  -1.64335314e-02]],\n",
       "\n",
       "        [[  3.08406979e-01,  -1.23127185e-01]]],\n",
       "\n",
       "\n",
       "       [[[ -4.59646620e-03,   3.16814799e-03]],\n",
       "\n",
       "        [[  5.00462234e-01,   1.26769555e+00]],\n",
       "\n",
       "        [[  5.62653057e-02,  -4.09918511e-03]]],\n",
       "\n",
       "\n",
       "       [[[ -4.40740399e-02,   8.26401487e-02]],\n",
       "\n",
       "        [[ -2.30604503e-03,  -1.20151264e-03]],\n",
       "\n",
       "        [[  8.45762730e-01,   4.80350733e-01]]],\n",
       "\n",
       "\n",
       "       [[[  4.38146770e-01,   1.06135857e+00]],\n",
       "\n",
       "        [[ -4.34755493e-04,  -9.18518926e-04]],\n",
       "\n",
       "        [[  1.67447142e-02,   1.36014679e-02]]]], dtype=float32)"
      ]
     },
     "execution_count": 89,
     "metadata": {},
     "output_type": "execute_result"
    }
   ],
   "source": [
    "a"
   ]
  },
  {
   "cell_type": "code",
   "execution_count": 90,
   "metadata": {
    "collapsed": false
   },
   "outputs": [
    {
     "data": {
      "text/plain": [
       "((4, 3), (4, 3), (4, 3, 1, 5), (4, 3, 1, 2))"
      ]
     },
     "execution_count": 90,
     "metadata": {},
     "output_type": "execute_result"
    }
   ],
   "source": [
    "r1.shape, r2.shape, hidden_attn.shape, a.shape"
   ]
  },
  {
   "cell_type": "code",
   "execution_count": 30,
   "metadata": {
    "collapsed": false
   },
   "outputs": [
    {
     "name": "stdout",
     "output_type": "stream",
     "text": [
      "[[[ 0.98496509 -0.02851603]\n",
      "  [-1.66726875  0.26753381]\n",
      "  [ 1.51515627 -1.50682473]]\n",
      "\n",
      " [[-0.4010278  -0.20075859]\n",
      "  [ 2.04382253  0.63284922]\n",
      "  [ 0.28390208 -0.73765641]]\n",
      "\n",
      " [[ 0.48980576 -0.38248792]\n",
      "  [ 0.77407116 -0.76873422]\n",
      "  [ 1.21942866 -0.62619776]]\n",
      "\n",
      " [[-0.50401235  0.96489722]\n",
      "  [-1.17172551 -0.13353828]\n",
      "  [ 0.46496364 -0.52199084]]]\n",
      "\n",
      " [[[ 0.98496509 -0.02851603]\n",
      "  [-1.66726875  0.26753381]\n",
      "  [ 1.51515627 -1.50682473]]\n",
      "\n",
      " [[-0.4010278  -0.20075859]\n",
      "  [ 2.04382253  0.63284922]\n",
      "  [ 0.28390208 -0.73765641]]\n",
      "\n",
      " [[ 0.48980576 -0.38248792]\n",
      "  [ 0.77407116 -0.76873422]\n",
      "  [ 1.21942866 -0.62619776]]\n",
      "\n",
      " [[-0.50401235  0.96489722]\n",
      "  [-1.17172551 -0.13353828]\n",
      "  [ 0.46496364 -0.52199084]]]\n",
      "<class 'numpy.float32'>\n"
     ]
    }
   ],
   "source": [
    "print(v)\n",
    "print('\\n', v)\n",
    "print(type(v[0][0][0]))"
   ]
  },
  {
   "cell_type": "code",
   "execution_count": 31,
   "metadata": {
    "collapsed": false
   },
   "outputs": [
    {
     "name": "stdout",
     "output_type": "stream",
     "text": [
      "[[[[ 0.98496509 -0.02851603]]\n",
      "\n",
      "  [[-1.66726875  0.26753381]]\n",
      "\n",
      "  [[ 1.51515627 -1.50682473]]]\n",
      "\n",
      "\n",
      " [[[-0.4010278  -0.20075859]]\n",
      "\n",
      "  [[ 2.04382253  0.63284922]]\n",
      "\n",
      "  [[ 0.28390208 -0.73765641]]]\n",
      "\n",
      "\n",
      " [[[ 0.48980576 -0.38248792]]\n",
      "\n",
      "  [[ 0.77407116 -0.76873422]]\n",
      "\n",
      "  [[ 1.21942866 -0.62619776]]]\n",
      "\n",
      "\n",
      " [[[-0.50401235  0.96489722]]\n",
      "\n",
      "  [[-1.17172551 -0.13353828]]\n",
      "\n",
      "  [[ 0.46496364 -0.52199084]]]]\n",
      "\n",
      " (4, 3, 1, 2)\n",
      "<class 'numpy.ndarray'>\n"
     ]
    }
   ],
   "source": [
    "print(attn_vecs)\n",
    "print('\\n', attn_vecs.shape)\n",
    "print(type(attn_vecs[0][0][0]))"
   ]
  },
  {
   "cell_type": "code",
   "execution_count": 32,
   "metadata": {
    "collapsed": false
   },
   "outputs": [
    {
     "name": "stdout",
     "output_type": "stream",
     "text": [
      "[[[[ 0.7487042  -0.41131687 -0.19210237 -0.3272444   0.64037955]\n",
      "   [-0.89684075  0.04162115 -0.88145727 -0.16965276 -0.38242561]]]]\n",
      "\n",
      " (1, 1, 2, 5)\n",
      "<class 'numpy.float32'>\n"
     ]
    }
   ],
   "source": [
    "print(W)\n",
    "print('\\n', W.shape)\n",
    "print(type(W[0][0][0][0]))"
   ]
  },
  {
   "cell_type": "code",
   "execution_count": 34,
   "metadata": {
    "collapsed": false
   },
   "outputs": [
    {
     "name": "stdout",
     "output_type": "stream",
     "text": [
      "[[[[  7.63021827e-01  -4.06319648e-01  -1.64078459e-01  -3.17486495e-01\n",
      "      6.41656756e-01]]\n",
      "\n",
      "  [[ -1.48822641e+00   6.96910799e-01   8.44666511e-02   5.00216484e-01\n",
      "     -1.16999650e+00]]\n",
      "\n",
      "  [[  2.48578572e+00  -6.85925126e-01   1.03713644e+00  -2.40189418e-01\n",
      "      1.54652345e+00]]]\n",
      "\n",
      "\n",
      " [[[ -1.20202698e-01   1.56593710e-01   2.53998518e-01   1.65293351e-01\n",
      "     -1.80034786e-01]]\n",
      "\n",
      "  [[  9.62653518e-01  -8.14318776e-01  -9.50452685e-01  -7.76194096e-01\n",
      "      1.06680441e+00]]\n",
      "\n",
      "  [[  8.74118984e-01  -1.47475824e-01   5.95674336e-01   3.22400816e-02\n",
      "      4.63903785e-01]]]\n",
      "\n",
      "\n",
      " [[[  7.09750414e-01  -2.17384949e-01   2.43053913e-01  -9.53960568e-02\n",
      "      4.59934741e-01]]\n",
      "\n",
      "  [[  1.26898253e+00  -3.50384116e-01   5.28905451e-01  -1.22892559e-01\n",
      "      7.89682984e-01]]\n",
      "\n",
      "  [[  1.47459102e+00  -5.27634680e-01   3.17711443e-01  -2.92815000e-01\n",
      "      1.02037120e+00]]]\n",
      "\n",
      "\n",
      " [[[ -1.24271536e+00   2.47468919e-01  -7.53693700e-01   1.23774062e-03\n",
      "     -6.91760600e-01]]\n",
      "\n",
      "  [[ -7.57513285e-01   4.76392448e-01   3.42799544e-01   4.06095743e-01\n",
      "     -6.99280560e-01]]\n",
      "\n",
      "  [[  8.16262901e-01  -2.12973252e-01   3.70792001e-01  -6.35995716e-02\n",
      "      4.97375876e-01]]]]\n",
      "\n",
      " (4, 3, 1, 5)\n",
      "<class 'numpy.ndarray'>\n"
     ]
    }
   ],
   "source": [
    "print(hidden_attn)\n",
    "print('\\n', hidden_attn.shape)\n",
    "print(type(attn_vecs[0][0][0]))"
   ]
  },
  {
   "cell_type": "code",
   "execution_count": null,
   "metadata": {
    "collapsed": true
   },
   "outputs": [],
   "source": []
  }
 ],
 "metadata": {
  "anaconda-cloud": {},
  "kernelspec": {
   "display_name": "Python [conda root]",
   "language": "python",
   "name": "conda-root-py"
  },
  "language_info": {
   "codemirror_mode": {
    "name": "ipython",
    "version": 3
   },
   "file_extension": ".py",
   "mimetype": "text/x-python",
   "name": "python",
   "nbconvert_exporter": "python",
   "pygments_lexer": "ipython3",
   "version": "3.5.2"
  }
 },
 "nbformat": 4,
 "nbformat_minor": 1
}
