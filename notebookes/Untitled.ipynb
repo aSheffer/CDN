{
 "cells": [
  {
   "cell_type": "code",
   "execution_count": null,
   "metadata": {
    "collapsed": true
   },
   "outputs": [],
   "source": [
    "trainset_file = '../data/training/train_data.bin'\n",
    "testset_file = '../data/training/test_data.bin'\n",
    "vocab_file = '../data/metadata/vocab.json'\n",
    "# params_dir = '../data/training/models/GroundR/params:hs,50:lr,0.05'\n",
    "params_dir_tmp = '../data/training/models/RGAB5/All/'"
   ]
  }
 ],
 "metadata": {
  "anaconda-cloud": {},
  "kernelspec": {
   "display_name": "Python [conda env:tensorflow]",
   "language": "python",
   "name": "conda-env-tensorflow-py"
  },
  "language_info": {
   "codemirror_mode": {
    "name": "ipython",
    "version": 3
   },
   "file_extension": ".py",
   "mimetype": "text/x-python",
   "name": "python",
   "nbconvert_exporter": "python",
   "pygments_lexer": "ipython3",
   "version": "3.5.2"
  }
 },
 "nbformat": 4,
 "nbformat_minor": 1
}
