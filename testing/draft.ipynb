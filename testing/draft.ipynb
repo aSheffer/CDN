{
 "cells": [
  {
   "cell_type": "code",
   "execution_count": 1,
   "metadata": {
    "collapsed": false
   },
   "outputs": [],
   "source": [
    "import numpy as np\n",
    "import tensorflow as tf"
   ]
  },
  {
   "cell_type": "code",
   "execution_count": 13,
   "metadata": {
    "collapsed": false
   },
   "outputs": [
    {
     "data": {
      "text/plain": [
       "{1: -1, 2: -2, 3: -3}"
      ]
     },
     "execution_count": 13,
     "metadata": {},
     "output_type": "execute_result"
    }
   ],
   "source": [
    "a = [1,2,3]\n",
    "b = [-1,-2,-3]\n",
    "c = zip(a, b)\n",
    "{x:y for x,y in c}"
   ]
  },
  {
   "cell_type": "code",
   "execution_count": 315,
   "metadata": {
    "collapsed": false
   },
   "outputs": [],
   "source": [
    "v = tf.transpose(tf.multinomial(tf.log([[.1, .9]]), 10))\n",
    "\n",
    "sess = tf.Session()\n",
    "with sess.as_default():\n",
    "    tf.global_variables_initializer().run()\n",
    "    v  = sess.run(v)"
   ]
  },
  {
   "cell_type": "code",
   "execution_count": 316,
   "metadata": {
    "collapsed": false
   },
   "outputs": [
    {
     "data": {
      "text/plain": [
       "array([[1],\n",
       "       [0],\n",
       "       [1],\n",
       "       [1],\n",
       "       [1],\n",
       "       [1],\n",
       "       [1],\n",
       "       [1],\n",
       "       [1],\n",
       "       [0]])"
      ]
     },
     "execution_count": 316,
     "metadata": {},
     "output_type": "execute_result"
    }
   ],
   "source": [
    "v"
   ]
  },
  {
   "cell_type": "code",
   "execution_count": 271,
   "metadata": {
    "collapsed": false
   },
   "outputs": [
    {
     "data": {
      "text/plain": [
       "(1.6007810593582121, 0.25)"
      ]
     },
     "execution_count": 271,
     "metadata": {},
     "output_type": "execute_result"
    }
   ],
   "source": [
    "a1 = np.array([-1, -0.5, -0.5, 3])\n",
    "b1 = np.std(a1)\n",
    "c1 = np.mean(a1)\n",
    "b1, c1"
   ]
  },
  {
   "cell_type": "code",
   "execution_count": 272,
   "metadata": {
    "collapsed": false
   },
   "outputs": [
    {
     "data": {
      "text/plain": [
       "(array([-0.78086881, -0.46852129, -0.46852129,  1.71791138]),\n",
       " 5.5511151231257827e-17,\n",
       " 1.0)"
      ]
     },
     "execution_count": 272,
     "metadata": {},
     "output_type": "execute_result"
    }
   ],
   "source": [
    "e1 = a1/b1# - (b1-b) \n",
    "d1 = e1-np.mean(e1)\n",
    "d1, np.mean(d1), np.std(d1)"
   ]
  },
  {
   "cell_type": "code",
   "execution_count": 273,
   "metadata": {
    "collapsed": false
   },
   "outputs": [
    {
     "data": {
      "text/plain": [
       "(array([-0.08302644, -0.04981586, -0.04981586,  0.18265817]),\n",
       " 0.0,\n",
       " 0.10632572182833544)"
      ]
     },
     "execution_count": 273,
     "metadata": {},
     "output_type": "execute_result"
    }
   ],
   "source": [
    "e1 = (1-(b1-b))*a1/b1 \n",
    "d1 = e1-np.mean(e1)\n",
    "d1, np.mean(d1), np.std(d1)"
   ]
  },
  {
   "cell_type": "code",
   "execution_count": 274,
   "metadata": {
    "collapsed": false
   },
   "outputs": [
    {
     "data": {
      "text/plain": [
       "(array([-0.08302644, -0.04981586, -0.04981586,  0.18265817]),\n",
       " 0.0,\n",
       " 0.10632572182833544,\n",
       " 0.26568460741524202)"
      ]
     },
     "execution_count": 274,
     "metadata": {},
     "output_type": "execute_result"
    }
   ],
   "source": [
    "e1 = (1-(b1-b))*a1/b1 \n",
    "d1 = e1-np.mean(e1)\n",
    "d1, np.mean(d1), np.std(d1), d1[-1]-d1[0]"
   ]
  },
  {
   "cell_type": "code",
   "execution_count": 275,
   "metadata": {
    "collapsed": false
   },
   "outputs": [
    {
     "data": {
      "text/plain": [
       "(array([-0.33302644, -0.29981586, -0.29981586, -0.06734183]),\n",
       " -0.25,\n",
       " 0.10632572182833544,\n",
       " 0.26568460741524197)"
      ]
     },
     "execution_count": 275,
     "metadata": {},
     "output_type": "execute_result"
    }
   ],
   "source": [
    "e1 = (1-(b1-b))*a1/b1 \n",
    "d1 = e1-np.mean(e1)-c1\n",
    "d1, np.mean(d1), np.std(d1), d1[-1]-d1[0]"
   ]
  },
  {
   "cell_type": "code",
   "execution_count": 267,
   "metadata": {
    "collapsed": false
   },
   "outputs": [
    {
     "data": {
      "text/plain": [
       "0.25"
      ]
     },
     "execution_count": 267,
     "metadata": {},
     "output_type": "execute_result"
    }
   ],
   "source": [
    "c1"
   ]
  },
  {
   "cell_type": "code",
   "execution_count": 269,
   "metadata": {
    "collapsed": false
   },
   "outputs": [
    {
     "data": {
      "text/plain": [
       "0.89367427817166456"
      ]
     },
     "execution_count": 269,
     "metadata": {},
     "output_type": "execute_result"
    }
   ],
   "source": [
    "b1-b"
   ]
  },
  {
   "cell_type": "code",
   "execution_count": 270,
   "metadata": {
    "collapsed": false
   },
   "outputs": [
    {
     "data": {
      "text/plain": [
       "0.10632572182833544"
      ]
     },
     "execution_count": 270,
     "metadata": {},
     "output_type": "execute_result"
    }
   ],
   "source": [
    "(1-(b1-b))"
   ]
  },
  {
   "cell_type": "code",
   "execution_count": 238,
   "metadata": {
    "collapsed": false
   },
   "outputs": [
    {
     "data": {
      "text/plain": [
       "1.36747666"
      ]
     },
     "execution_count": 238,
     "metadata": {},
     "output_type": "execute_result"
    }
   ],
   "source": [
    "0.91165111--0.45582555"
   ]
  },
  {
   "cell_type": "code",
   "execution_count": null,
   "metadata": {
    "collapsed": true
   },
   "outputs": [],
   "source": []
  },
  {
   "cell_type": "code",
   "execution_count": 7,
   "metadata": {
    "collapsed": false
   },
   "outputs": [
    {
     "name": "stdout",
     "output_type": "stream",
     "text": [
      "STD: 2 0.5\n",
      "A: [ 0.63223373  0.15726684 -0.31770009  0.63223373 -0.30820076 -0.79266702\n",
      "  0.63223373 -0.31770009 -0.31770009]\n",
      "0.500000008195 0.0 \n",
      "\n",
      "STD: 10 0.1\n",
      "A: [ 0.12644675  0.03145337 -0.06354002  0.12644675 -0.06164015 -0.1585334\n",
      "  0.12644675 -0.06354002 -0.06354002]\n",
      "0.100000001639 -4.62592926927e-18 \n",
      "\n",
      "STD: 20 0.05\n",
      "A: [ 0.06322337  0.01572668 -0.03177001  0.06322337 -0.03082008 -0.0792667\n",
      "  0.06322337 -0.03177001 -0.03177001]\n",
      "0.0500000008195 -2.31296463464e-18 \n",
      "\n",
      "STD: 30 0.03333333333333333\n",
      "A: [ 0.04214892  0.01048446 -0.02118001  0.04214892 -0.02054672 -0.05284447\n",
      "  0.04214892 -0.02118001 -0.02118001]\n",
      "0.0333333338797 5.39691748082e-18 \n",
      "\n",
      "STD: 40 0.025\n",
      "A: [ 0.03161169  0.00786334 -0.015885    0.03161169 -0.01541004 -0.03963335\n",
      "  0.03161169 -0.015885   -0.015885  ]\n",
      "0.0250000004098 -1.15648231732e-18 \n",
      "\n",
      "STD: 50 0.02\n",
      "A: [ 0.02528935  0.00629067 -0.012708    0.02528935 -0.01232803 -0.03170668\n",
      "  0.02528935 -0.012708   -0.012708  ]\n",
      "0.0200000003278 3.08395284618e-18 \n",
      "\n",
      "STD: 60 0.016666666666666666\n",
      "A: [ 0.02107446  0.00524223 -0.01059     0.02107446 -0.01027336 -0.02642223\n",
      "  0.02107446 -0.01059    -0.01059   ]\n",
      "0.0166666669398 2.69845874041e-18 \n",
      "\n",
      "STD: 70 0.014285714285714285\n",
      "A: [ 0.01806382  0.00449334 -0.00907715  0.01806382 -0.00880574 -0.02264763\n",
      "  0.01806382 -0.00907715 -0.00907715]\n",
      "0.0142857145199 -3.85494105773e-18 \n",
      "\n",
      "STD: 80 0.0125\n",
      "A: [ 0.01580584  0.00393167 -0.0079425   0.01580584 -0.00770502 -0.01981668\n",
      "  0.01580584 -0.0079425  -0.0079425 ]\n",
      "0.0125000002049 -5.78241158659e-19 \n",
      "\n",
      "STD: 90 0.011111111111111112\n",
      "A: [ 0.01404964  0.00349482 -0.00706     0.01404964 -0.00684891 -0.01761482\n",
      "  0.01404964 -0.00706    -0.00706   ]\n",
      "0.0111111112932 -1.92747052886e-19 \n",
      "\n",
      "STD: 100 0.01\n",
      "A: [ 0.01264467  0.00314534 -0.006354    0.01264467 -0.00616402 -0.01585334\n",
      "  0.01264467 -0.006354   -0.006354  ]\n",
      "0.0100000001639 1.54197642309e-18 \n",
      "\n"
     ]
    },
    {
     "name": "stderr",
     "output_type": "stream",
     "text": [
      "/home/asi/anaconda3/envs/tensorflow/lib/python3.5/site-packages/ipykernel/__main__.py:8: DeprecationWarning: Both axis > a.ndim and axis < -a.ndim - 1 are deprecated and will raise an AxisError in the future.\n"
     ]
    }
   ],
   "source": [
    "for std in [2, 10, 20, 30, 40, 50, 60, 70, 80, 90, 100]:\n",
    "    print('STD:', std, 1/std)\n",
    "    a = np.array([1,0.5,0,1,0.01, -0.5,1, 0 ,0], dtype=np.float32)\n",
    "    a_min = np.min(a, axis=-1, keepdims=True)\n",
    "    a_max = np.max(a, axis=-1, keepdims=True)\n",
    "    a_ = (a-a_min)/(a_max-a_min)\n",
    "    s = np.std(a_, axis=-1)\n",
    "    A=a_/np.expand_dims(std*s, 1)\n",
    "    A = A - np.mean(A, axis=-1, keepdims=True)\n",
    "    print(\"A:\",A)\n",
    "    print(np.std(A, axis=-1), np.mean(A, axis=-1), '\\n')"
   ]
  },
  {
   "cell_type": "code",
   "execution_count": 51,
   "metadata": {
    "collapsed": false
   },
   "outputs": [
    {
     "data": {
      "text/plain": [
       "4.4408920985006264e-17"
      ]
     },
     "execution_count": 51,
     "metadata": {},
     "output_type": "execute_result"
    }
   ],
   "source": [
    "c = np.random.randn(5)\n",
    "np.mean(c-np.mean(c))"
   ]
  },
  {
   "cell_type": "code",
   "execution_count": null,
   "metadata": {
    "collapsed": true
   },
   "outputs": [],
   "source": []
  }
 ],
 "metadata": {
  "anaconda-cloud": {},
  "kernelspec": {
   "display_name": "Python [conda env:tensorflow]",
   "language": "python",
   "name": "conda-env-tensorflow-py"
  },
  "language_info": {
   "codemirror_mode": {
    "name": "ipython",
    "version": 3
   },
   "file_extension": ".py",
   "mimetype": "text/x-python",
   "name": "python",
   "nbconvert_exporter": "python",
   "pygments_lexer": "ipython3",
   "version": "3.5.2"
  }
 },
 "nbformat": 4,
 "nbformat_minor": 1
}
