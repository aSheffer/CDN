{
 "cells": [
  {
   "cell_type": "code",
   "execution_count": 1,
   "metadata": {
    "collapsed": false
   },
   "outputs": [],
   "source": [
    "import numpy as np\n",
    "import tensorflow as tf"
   ]
  },
  {
   "cell_type": "code",
   "execution_count": 21,
   "metadata": {
    "collapsed": false
   },
   "outputs": [],
   "source": [
    "tf.reset_default_graph()\n",
    "rand1 = tf.multinomial(tf.log([[1-0.2, 0.2]]), 10)\n",
    "rand_choice1 = tf.cast(tf.less(tf.transpose(rand1), 1), tf.float32) \n",
    "\n",
    "rand2 = tf.multinomial(tf.log([[0.2, 1-0.2]]), 10)\n",
    "rand_choice2 = tf.cast(tf.less(tf.transpose(rand2), 1), tf.float32) \n",
    "    \n",
    "sess=tf.Session()\n",
    "with sess.as_default():\n",
    "    tf.global_variables_initializer().run()\n",
    "    rand1, rand_choice1, rand2, rand_choice2  = sess.run([rand1, rand_choice1, rand2, rand_choice2])"
   ]
  },
  {
   "cell_type": "code",
   "execution_count": 22,
   "metadata": {
    "collapsed": false
   },
   "outputs": [
    {
     "data": {
      "text/plain": [
       "array([[0, 0, 1, 0, 0, 0, 0, 0, 0, 0]])"
      ]
     },
     "execution_count": 22,
     "metadata": {},
     "output_type": "execute_result"
    }
   ],
   "source": [
    "rand1"
   ]
  },
  {
   "cell_type": "code",
   "execution_count": 23,
   "metadata": {
    "collapsed": false
   },
   "outputs": [
    {
     "data": {
      "text/plain": [
       "array([[1, 1, 1, 0, 1, 1, 1, 0, 1, 1]])"
      ]
     },
     "execution_count": 23,
     "metadata": {},
     "output_type": "execute_result"
    }
   ],
   "source": [
    "rand2"
   ]
  },
  {
   "cell_type": "code",
   "execution_count": 26,
   "metadata": {
    "collapsed": false
   },
   "outputs": [
    {
     "data": {
      "text/plain": [
       "(array([[ 1.],\n",
       "        [ 1.],\n",
       "        [ 0.],\n",
       "        [ 1.],\n",
       "        [ 1.],\n",
       "        [ 1.],\n",
       "        [ 1.],\n",
       "        [ 1.],\n",
       "        [ 1.],\n",
       "        [ 1.]], dtype=float32), (10, 1))"
      ]
     },
     "execution_count": 26,
     "metadata": {},
     "output_type": "execute_result"
    }
   ],
   "source": [
    "rand_choice1, rand_choice1.shape"
   ]
  },
  {
   "cell_type": "code",
   "execution_count": 25,
   "metadata": {
    "collapsed": false
   },
   "outputs": [
    {
     "data": {
      "text/plain": [
       "array([[ 0.],\n",
       "       [ 0.],\n",
       "       [ 0.],\n",
       "       [ 1.],\n",
       "       [ 0.],\n",
       "       [ 0.],\n",
       "       [ 0.],\n",
       "       [ 1.],\n",
       "       [ 0.],\n",
       "       [ 0.]], dtype=float32)"
      ]
     },
     "execution_count": 25,
     "metadata": {},
     "output_type": "execute_result"
    }
   ],
   "source": [
    "rand_choice2"
   ]
  },
  {
   "cell_type": "code",
   "execution_count": null,
   "metadata": {
    "collapsed": true
   },
   "outputs": [],
   "source": []
  },
  {
   "cell_type": "code",
   "execution_count": 93,
   "metadata": {
    "collapsed": false
   },
   "outputs": [],
   "source": [
    "tf.reset_default_graph()\n",
    "with tf.device('/cpu:0'):\n",
    "    sess = tf.Session()\n",
    "    v = tf.Variable(np.random.randn(5,4,3))\n",
    "    z = tf.Variable(np.random.randn(5,3))\n",
    "    pool = tf.reduce_max(v, axis=1)\n",
    "    g = tf.gradients(pool*z, [v])\n",
    "    \n",
    "    with sess.as_default():\n",
    "        tf.global_variables_initializer().run()\n",
    "        z,v, pool, g  = sess.run([z,v,pool,g])"
   ]
  },
  {
   "cell_type": "code",
   "execution_count": 94,
   "metadata": {
    "collapsed": false
   },
   "outputs": [
    {
     "data": {
      "text/plain": [
       "array([[[  9.66329468e-02,   8.56943490e-01,  -1.13429013e+00],\n",
       "        [  1.76360662e-01,  -7.80081574e-01,  -2.24211635e-01],\n",
       "        [  2.59482516e+00,  -1.47262563e+00,  -6.58419029e-01],\n",
       "        [ -1.43945423e+00,   2.28367045e-01,   7.57987704e-01]],\n",
       "\n",
       "       [[ -1.48293777e+00,   6.69543265e-01,   1.33891190e+00],\n",
       "        [  1.36286205e+00,  -1.50032347e+00,   5.33523025e-04],\n",
       "        [  3.35798777e-01,   1.16708571e+00,  -2.54980434e+00],\n",
       "        [  2.89748749e-01,  -2.11065238e-01,  -2.58823724e+00]],\n",
       "\n",
       "       [[  2.01702482e+00,   2.30004762e+00,  -9.03874130e-01],\n",
       "        [  5.57252685e-01,   5.08004502e-01,  -6.07645203e-01],\n",
       "        [ -3.14329769e-01,   1.47917800e+00,  -3.41570588e-01],\n",
       "        [  1.24272925e+00,   1.15362731e+00,  -6.36580593e-01]],\n",
       "\n",
       "       [[  7.90080369e-01,  -1.03750042e-01,   8.07389158e-01],\n",
       "        [ -1.53120415e+00,  -3.14797666e-03,   3.12905808e+00],\n",
       "        [ -2.78078332e-02,  -2.36240934e-01,   3.57977180e-03],\n",
       "        [ -9.42270892e-01,  -1.48722883e+00,   1.18849457e+00]],\n",
       "\n",
       "       [[  9.09631236e-01,  -5.57922494e-01,  -5.47185525e-01],\n",
       "        [  3.60555353e-01,  -1.26466923e+00,  -1.76051876e+00],\n",
       "        [  2.46472825e-01,  -2.89954672e-01,   8.57649090e-01],\n",
       "        [ -8.25326204e-02,  -1.13637538e-01,   4.64800180e-01]]])"
      ]
     },
     "execution_count": 94,
     "metadata": {},
     "output_type": "execute_result"
    }
   ],
   "source": [
    "v"
   ]
  },
  {
   "cell_type": "code",
   "execution_count": 95,
   "metadata": {
    "collapsed": false
   },
   "outputs": [
    {
     "data": {
      "text/plain": [
       "array([[ 2.59482516,  0.85694349,  0.7579877 ],\n",
       "       [ 1.36286205,  1.16708571,  1.3389119 ],\n",
       "       [ 2.01702482,  2.30004762, -0.34157059],\n",
       "       [ 0.79008037, -0.00314798,  3.12905808],\n",
       "       [ 0.90963124, -0.11363754,  0.85764909]])"
      ]
     },
     "execution_count": 95,
     "metadata": {},
     "output_type": "execute_result"
    }
   ],
   "source": [
    "pool"
   ]
  },
  {
   "cell_type": "code",
   "execution_count": 96,
   "metadata": {
    "collapsed": false
   },
   "outputs": [
    {
     "data": {
      "text/plain": [
       "(5, 3)"
      ]
     },
     "execution_count": 96,
     "metadata": {},
     "output_type": "execute_result"
    }
   ],
   "source": [
    "pool.shape"
   ]
  },
  {
   "cell_type": "code",
   "execution_count": 97,
   "metadata": {
    "collapsed": false
   },
   "outputs": [
    {
     "data": {
      "text/plain": [
       "[array([[[-0.        , -0.04154767,  0.        ],\n",
       "         [-0.        , -0.        ,  0.        ],\n",
       "         [-0.11962198, -0.        ,  0.        ],\n",
       "         [-0.        , -0.        ,  0.57389386]],\n",
       " \n",
       "        [[-0.        , -0.        ,  0.20937453],\n",
       "         [-2.39905442, -0.        ,  0.        ],\n",
       "         [-0.        , -0.03759407,  0.        ],\n",
       "         [-0.        , -0.        ,  0.        ]],\n",
       " \n",
       "        [[-1.3163498 ,  0.98069193,  0.        ],\n",
       "         [-0.        ,  0.        ,  0.        ],\n",
       "         [-0.        ,  0.        ,  0.87753507],\n",
       "         [-0.        ,  0.        ,  0.        ]],\n",
       " \n",
       "        [[ 0.56734216,  0.        ,  0.        ],\n",
       "         [ 0.        ,  0.41682648,  2.15214067],\n",
       "         [ 0.        ,  0.        ,  0.        ],\n",
       "         [ 0.        ,  0.        ,  0.        ]],\n",
       " \n",
       "        [[-0.47925754,  0.        , -0.        ],\n",
       "         [-0.        ,  0.        , -0.        ],\n",
       "         [-0.        ,  0.        , -0.33252851],\n",
       "         [-0.        ,  0.14240748, -0.        ]]])]"
      ]
     },
     "execution_count": 97,
     "metadata": {},
     "output_type": "execute_result"
    }
   ],
   "source": [
    "g"
   ]
  },
  {
   "cell_type": "code",
   "execution_count": 98,
   "metadata": {
    "collapsed": false
   },
   "outputs": [
    {
     "data": {
      "text/plain": [
       "array([[-0.11962198, -0.04154767,  0.57389386],\n",
       "       [-2.39905442, -0.03759407,  0.20937453],\n",
       "       [-1.3163498 ,  0.98069193,  0.87753507],\n",
       "       [ 0.56734216,  0.41682648,  2.15214067],\n",
       "       [-0.47925754,  0.14240748, -0.33252851]])"
      ]
     },
     "execution_count": 98,
     "metadata": {},
     "output_type": "execute_result"
    }
   ],
   "source": [
    "z"
   ]
  },
  {
   "cell_type": "code",
   "execution_count": null,
   "metadata": {
    "collapsed": true
   },
   "outputs": [],
   "source": []
  }
 ],
 "metadata": {
  "anaconda-cloud": {},
  "kernelspec": {
   "display_name": "Python [conda env:tensorflow]",
   "language": "python",
   "name": "conda-env-tensorflow-py"
  },
  "language_info": {
   "codemirror_mode": {
    "name": "ipython",
    "version": 3
   },
   "file_extension": ".py",
   "mimetype": "text/x-python",
   "name": "python",
   "nbconvert_exporter": "python",
   "pygments_lexer": "ipython3",
   "version": "3.5.2"
  }
 },
 "nbformat": 4,
 "nbformat_minor": 1
}
