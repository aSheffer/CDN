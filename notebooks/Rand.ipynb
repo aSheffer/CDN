{
 "cells": [
  {
   "cell_type": "markdown",
   "metadata": {},
   "source": [
    "# Rand\n",
    "\n",
    "In order to test the difficalty of the problem we tested a model that given a set of an image's bboxes (bounding boxes) candidates, chooses one bbox randomly. We've tested the model on the test and train set 10 times and averaged the results."
   ]
  },
  {
   "cell_type": "code",
   "execution_count": 1,
   "metadata": {},
   "outputs": [],
   "source": [
    "import numpy as np\n",
    "import tensorflow as tf\n",
    "import json\n",
    "from datetime import datetime\n",
    "import os\n",
    "import sys\n",
    "sys.path.append('../')\n",
    "import retriever\n",
    "from tabulate import tabulate\n",
    "import matplotlib\n",
    "import matplotlib.pyplot as plt\n",
    "%matplotlib inline  "
   ]
  },
  {
   "cell_type": "code",
   "execution_count": 2,
   "metadata": {},
   "outputs": [],
   "source": [
    "trainset_file = '../data/training/w2v_train_data_new.bin'\n",
    "testset_file = '../data/training/w2v_test_data_new.bin'\n",
    "vocab_file =  '../data/metadata/w2v_vocab.json'"
   ]
  },
  {
   "cell_type": "code",
   "execution_count": 3,
   "metadata": {},
   "outputs": [],
   "source": [
    "trainset = np.load(open(trainset_file, 'rb'))\n",
    "testset = np.load(open(testset_file, 'rb'))"
   ]
  },
  {
   "cell_type": "code",
   "execution_count": 4,
   "metadata": {},
   "outputs": [],
   "source": [
    "def randomModel(dataset, round_num = 10):\n",
    "    '''\n",
    "    This function chooses one of the bboxes candidates randomly to be \n",
    "    the ground truth bbox.\n",
    "    \n",
    "    We run it for 10 rounds and compute the accuracy and P@1 for each round. \n",
    "    finally we average the results.\n",
    "    '''\n",
    "    \n",
    "    iouAcc, acc = 0, 0\n",
    "    threshold = 0.5\n",
    "    for r in range(round_num):\n",
    "        IOUhits, hits = 0, 0  # hits+=1 if prediction is correct \n",
    "        for item in dataset:\n",
    "            pred = np.random.randint(len(item)-2)\n",
    "            if pred==item[-1]:\n",
    "                hits+=1\n",
    "            IOUhits += retriever.compute_iou(item[pred+1][1], item[item[-1]+1][1][0])[0]>threshold\n",
    "\n",
    "        print('Round:', r)\n",
    "        print('Hits:', hits)\n",
    "        print('Accuracy: %.3f'%(hits/len(dataset)))\n",
    "        print('P@1 Accuracy: %.3f'%(IOUhits/len(dataset)), '\\n')\n",
    "        acc+=hits/len(dataset)\n",
    "        iouAcc+=IOUhits/len(dataset)\n",
    "    print('\\nAverage Accuracy: %.3f'%(acc/round_num))\n",
    "    print('\\nAverage P@1: %.3f'%(iouAcc/round_num))"
   ]
  },
  {
   "cell_type": "markdown",
   "metadata": {},
   "source": [
    "## Testing train+test set"
   ]
  },
  {
   "cell_type": "code",
   "execution_count": 5,
   "metadata": {
    "scrolled": true
   },
   "outputs": [
    {
     "name": "stdout",
     "output_type": "stream",
     "text": [
      "Round: 0\n",
      "Hits: 22782\n",
      "Accuracy: 0.192\n",
      "P@1 Accuracy: 0.297 \n",
      "\n",
      "Round: 1\n",
      "Hits: 22753\n",
      "Accuracy: 0.191\n",
      "P@1 Accuracy: 0.295 \n",
      "\n",
      "Round: 2\n",
      "Hits: 22454\n",
      "Accuracy: 0.189\n",
      "P@1 Accuracy: 0.292 \n",
      "\n",
      "Round: 3\n",
      "Hits: 22469\n",
      "Accuracy: 0.189\n",
      "P@1 Accuracy: 0.292 \n",
      "\n",
      "Round: 4\n",
      "Hits: 22564\n",
      "Accuracy: 0.190\n",
      "P@1 Accuracy: 0.294 \n",
      "\n",
      "Round: 5\n",
      "Hits: 22735\n",
      "Accuracy: 0.191\n",
      "P@1 Accuracy: 0.295 \n",
      "\n",
      "Round: 6\n",
      "Hits: 22472\n",
      "Accuracy: 0.189\n",
      "P@1 Accuracy: 0.292 \n",
      "\n",
      "Round: 7\n",
      "Hits: 22557\n",
      "Accuracy: 0.190\n",
      "P@1 Accuracy: 0.293 \n",
      "\n",
      "Round: 8\n",
      "Hits: 22534\n",
      "Accuracy: 0.189\n",
      "P@1 Accuracy: 0.294 \n",
      "\n",
      "Round: 9\n",
      "Hits: 22504\n",
      "Accuracy: 0.189\n",
      "P@1 Accuracy: 0.294 \n",
      "\n",
      "\n",
      "Average Accuracy: 0.190\n",
      "\n",
      "Average P@1: 0.294\n"
     ]
    }
   ],
   "source": [
    "randomModel(trainset.tolist() + testset.tolist())"
   ]
  },
  {
   "cell_type": "code",
   "execution_count": null,
   "metadata": {
    "collapsed": true
   },
   "outputs": [],
   "source": []
  }
 ],
 "metadata": {
  "anaconda-cloud": {},
  "kernelspec": {
   "display_name": "Python (tensorflow)",
   "language": "python",
   "name": "tensorflow"
  },
  "language_info": {
   "codemirror_mode": {
    "name": "ipython",
    "version": 3
   },
   "file_extension": ".py",
   "mimetype": "text/x-python",
   "name": "python",
   "nbconvert_exporter": "python",
   "pygments_lexer": "ipython3",
   "version": "3.6.4"
  }
 },
 "nbformat": 4,
 "nbformat_minor": 1
}
