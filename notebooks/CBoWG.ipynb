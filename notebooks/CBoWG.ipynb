{
 "cells": [
  {
   "cell_type": "markdown",
   "metadata": {},
   "source": [
    "# Continuous Bag of Words Grounder (CBoWG)\n",
    "\n",
    "In order to shed some light about the importance of syntax to our task, we wanted to examine the impact of ignoring it. Thus, CBoWG's language model uses only a trainable words embeddings. It embeds each query by summing its words vectors and calculates the similarity between the query and each of the candidates bboxes (bounding boxes) via the cosine similarity between their embeddings. The image model remains the same as in all our models. "
   ]
  },
  {
   "cell_type": "code",
   "execution_count": 1,
   "metadata": {},
   "outputs": [],
   "source": [
    "import numpy as np\n",
    "import tensorflow as tf\n",
    "import json\n",
    "from datetime import datetime\n",
    "import os\n",
    "import sys\n",
    "sys.path.append('../')\n",
    "sys.path.append('../models/')\n",
    "from stats import stats\n",
    "import retriever\n",
    "from tabulate import tabulate\n",
    "from CBoWG import Model\n",
    "\n",
    "%matplotlib inline  "
   ]
  },
  {
   "cell_type": "code",
   "execution_count": 2,
   "metadata": {},
   "outputs": [],
   "source": [
    "trainset_file = '../data/training/train_data.bin'\n",
    "testset_file = '../data/training/test_data.bin'\n",
    "vocab_file =  '../data/metadata/vocab.json'\n",
    "params_dir_tmp = '../data/training/models/CBoWG/'"
   ]
  },
  {
   "cell_type": "code",
   "execution_count": 3,
   "metadata": {},
   "outputs": [
    {
     "name": "stdout",
     "output_type": "stream",
     "text": [
      "Number of words: 8916\n"
     ]
    }
   ],
   "source": [
    "trainset = np.load(open(trainset_file, 'rb'))\n",
    "\n",
    "# delete data points where the query length is zero\n",
    "trainset = np.array([item for item in trainset if len(item[0])!=0])\n",
    "\n",
    "testset = np.load(open(testset_file, 'rb'))\n",
    "\n",
    "# delete data points where the query length is zero\n",
    "testset = np.array([item for item in testset if len(item[0])!=0])\n",
    "\n",
    "# loading vocabulary \n",
    "with open(vocab_file, 'r') as f:\n",
    "    vocab = json.loads(f.read())\n",
    "vocab['<unk>'] = len(vocab)\n",
    "\n",
    "print(\"Number of words:\", len(vocab))"
   ]
  },
  {
   "cell_type": "code",
   "execution_count": 4,
   "metadata": {},
   "outputs": [],
   "source": [
    "tf.reset_default_graph()\n",
    "params_dir = params_dir_tmp+'params'\n",
    "m = Model(\n",
    "    batch_size=100, \n",
    "    img_dims=trainset[0][1][0].shape[1], \n",
    "    bbox_dims=trainset[0][1][1].shape[1], \n",
    "    lr=.05,\n",
    "    vocab=vocab, \n",
    "    decay_steps=10000, \n",
    "    decay_rate=0.99,\n",
    "    params_dir=params_dir\n",
    ")"
   ]
  },
  {
   "cell_type": "markdown",
   "metadata": {},
   "source": [
    "<p>As expected, since this model's capacity is significantly smaller than SG, overfitting is less of a problem. Moreover, unlike what we saw with SG without regularization, the loss and P@1 on both the test and train sets decrease more or less together and the loss increasement corresponds to the P@1 decreasement .</p>\n",
    "\n",
    "<p>We can see that CBoWG gets to the optimal results at the third epoch with relatively small overfitting. This means that the cause for its poor results is not overfitting but the lack of valuable information to learn from. Therefore, we should compare it to other models with good regularization capabilities (e.g. SG+CDN) where we see much better results.</p>"
   ]
  },
  {
   "cell_type": "code",
   "execution_count": 5,
   "metadata": {
    "scrolled": true
   },
   "outputs": [
    {
     "name": "stdout",
     "output_type": "stream",
     "text": [
      "params_dir: ../data/training/models/CBoWG/params \n",
      "\n",
      "Initializing variables\n",
      "================================================== \n",
      "Train, epoch: 0\n",
      "epoch: 0 ;batch: 0 ;gs: 1 ;lr: 0.0500 ;loss: 2.99 ;acc: 0.520 ;iou: 0.570 ;time: 0:00:00\n",
      "epoch: 0 ;batch: 100 ;gs: 101 ;lr: 0.0500 ;loss: 2.29 ;acc: 0.490 ;iou: 0.570 ;time: 0:00:13\n",
      "epoch: 0 ;batch: 200 ;gs: 201 ;lr: 0.0500 ;loss: 2.12 ;acc: 0.610 ;iou: 0.690 ;time: 0:00:25\n",
      "epoch: 0 ;batch: 300 ;gs: 301 ;lr: 0.0500 ;loss: 2.19 ;acc: 0.550 ;iou: 0.690 ;time: 0:00:38\n",
      "epoch: 0 ;batch: 400 ;gs: 401 ;lr: 0.0500 ;loss: 1.93 ;acc: 0.600 ;iou: 0.670 ;time: 0:00:51\n",
      "epoch: 0 ;batch: 500 ;gs: 501 ;lr: 0.0500 ;loss: 1.98 ;acc: 0.620 ;iou: 0.670 ;time: 0:01:04\n",
      "\n",
      "*Train loss: 2.029 ;Train accuracy: 0.627 ;IOU accuracy: 0.706 ;Time: 0:01:17 \n",
      "\n",
      "Testing, epoch: 0\n",
      "Batch: 0 ;loss: 2.068 ;acc: 0.480 ;iou_acc: 0.570 ;time: 0:01:17\n",
      "Batch: 100 ;loss: 2.201 ;acc: 0.480 ;iou_acc: 0.570 ;time: 0:01:30\n",
      "Batch: 200 ;loss: 2.003 ;acc: 0.490 ;iou_acc: 0.560 ;time: 0:01:43\n",
      "Batch: 300 ;loss: 1.935 ;acc: 0.560 ;iou_acc: 0.680 ;time: 0:01:56\n",
      "Batch: 400 ;loss: 1.902 ;acc: 0.470 ;iou_acc: 0.520 ;time: 0:02:09\n",
      "Batch: 500 ;loss: 1.909 ;acc: 0.550 ;iou_acc: 0.660 ;time: 0:02:21\n",
      "\n",
      "*Test loss: 1.944 ;Test accuracy 0.523 ;IOU accuracy: 0.621 ;Time: 0:02:33\n",
      "================================================== \n",
      "Train, epoch: 1\n",
      "epoch: 1 ;batch: 0 ;gs: 595 ;lr: 0.0500 ;loss: 1.75 ;acc: 0.730 ;iou: 0.780 ;time: 0:00:00\n",
      "epoch: 1 ;batch: 100 ;gs: 695 ;lr: 0.0500 ;loss: 1.78 ;acc: 0.700 ;iou: 0.740 ;time: 0:00:12\n",
      "epoch: 1 ;batch: 200 ;gs: 795 ;lr: 0.0500 ;loss: 2.01 ;acc: 0.570 ;iou: 0.670 ;time: 0:00:25\n",
      "epoch: 1 ;batch: 300 ;gs: 895 ;lr: 0.0500 ;loss: 1.96 ;acc: 0.620 ;iou: 0.660 ;time: 0:00:37\n",
      "epoch: 1 ;batch: 400 ;gs: 995 ;lr: 0.0500 ;loss: 1.90 ;acc: 0.660 ;iou: 0.720 ;time: 0:00:50\n",
      "epoch: 1 ;batch: 500 ;gs: 1095 ;lr: 0.0500 ;loss: 1.95 ;acc: 0.600 ;iou: 0.690 ;time: 0:01:02\n",
      "\n",
      "*Train loss: 1.843 ;Train accuracy: 0.675 ;IOU accuracy: 0.745 ;Time: 0:01:14 \n",
      "\n",
      "Testing, epoch: 1\n",
      "Batch: 0 ;loss: 1.991 ;acc: 0.480 ;iou_acc: 0.590 ;time: 0:01:14\n",
      "Batch: 100 ;loss: 2.072 ;acc: 0.530 ;iou_acc: 0.640 ;time: 0:01:27\n",
      "Batch: 200 ;loss: 2.001 ;acc: 0.470 ;iou_acc: 0.560 ;time: 0:01:40\n",
      "Batch: 300 ;loss: 2.041 ;acc: 0.550 ;iou_acc: 0.640 ;time: 0:01:54\n",
      "Batch: 400 ;loss: 1.863 ;acc: 0.510 ;iou_acc: 0.560 ;time: 0:02:07\n",
      "Batch: 500 ;loss: 1.986 ;acc: 0.460 ;iou_acc: 0.600 ;time: 0:02:20\n",
      "\n",
      "*Test loss: 1.956 ;Test accuracy 0.520 ;IOU accuracy: 0.617 ;Time: 0:02:32\n",
      "================================================== \n",
      "Train, epoch: 2\n",
      "epoch: 2 ;batch: 0 ;gs: 1189 ;lr: 0.0500 ;loss: 1.79 ;acc: 0.700 ;iou: 0.770 ;time: 0:00:00\n",
      "epoch: 2 ;batch: 100 ;gs: 1289 ;lr: 0.0500 ;loss: 1.82 ;acc: 0.710 ;iou: 0.750 ;time: 0:00:15\n",
      "epoch: 2 ;batch: 200 ;gs: 1389 ;lr: 0.0500 ;loss: 1.81 ;acc: 0.670 ;iou: 0.740 ;time: 0:00:29\n",
      "epoch: 2 ;batch: 300 ;gs: 1489 ;lr: 0.0500 ;loss: 1.99 ;acc: 0.650 ;iou: 0.720 ;time: 0:00:42\n",
      "epoch: 2 ;batch: 400 ;gs: 1589 ;lr: 0.0500 ;loss: 1.83 ;acc: 0.720 ;iou: 0.750 ;time: 0:00:54\n",
      "epoch: 2 ;batch: 500 ;gs: 1689 ;lr: 0.0500 ;loss: 1.85 ;acc: 0.710 ;iou: 0.750 ;time: 0:01:07\n",
      "\n",
      "*Train loss: 1.829 ;Train accuracy: 0.692 ;IOU accuracy: 0.756 ;Time: 0:01:19 \n",
      "\n",
      "Testing, epoch: 2\n",
      "Batch: 0 ;loss: 1.950 ;acc: 0.520 ;iou_acc: 0.600 ;time: 0:01:19\n",
      "Batch: 100 ;loss: 2.116 ;acc: 0.510 ;iou_acc: 0.600 ;time: 0:01:32\n",
      "Batch: 200 ;loss: 2.013 ;acc: 0.480 ;iou_acc: 0.520 ;time: 0:01:44\n",
      "Batch: 300 ;loss: 2.035 ;acc: 0.530 ;iou_acc: 0.630 ;time: 0:01:57\n",
      "Batch: 400 ;loss: 1.958 ;acc: 0.480 ;iou_acc: 0.560 ;time: 0:02:11\n",
      "Batch: 500 ;loss: 2.033 ;acc: 0.460 ;iou_acc: 0.600 ;time: 0:02:24\n",
      "\n",
      "*Test loss: 1.961 ;Test accuracy 0.518 ;IOU accuracy: 0.617 ;Time: 0:02:37\n",
      "================================================== \n",
      "Train, epoch: 3\n",
      "epoch: 3 ;batch: 0 ;gs: 1783 ;lr: 0.0500 ;loss: 1.76 ;acc: 0.740 ;iou: 0.850 ;time: 0:00:00\n",
      "epoch: 3 ;batch: 100 ;gs: 1883 ;lr: 0.0500 ;loss: 1.58 ;acc: 0.760 ;iou: 0.780 ;time: 0:00:14\n",
      "epoch: 3 ;batch: 200 ;gs: 1983 ;lr: 0.0500 ;loss: 1.84 ;acc: 0.700 ;iou: 0.750 ;time: 0:00:27\n",
      "epoch: 3 ;batch: 300 ;gs: 2083 ;lr: 0.0500 ;loss: 1.90 ;acc: 0.680 ;iou: 0.720 ;time: 0:00:40\n",
      "epoch: 3 ;batch: 400 ;gs: 2183 ;lr: 0.0500 ;loss: 1.89 ;acc: 0.700 ;iou: 0.800 ;time: 0:00:53\n",
      "epoch: 3 ;batch: 500 ;gs: 2283 ;lr: 0.0500 ;loss: 1.80 ;acc: 0.760 ;iou: 0.810 ;time: 0:01:05\n",
      "\n",
      "*Train loss: 1.824 ;Train accuracy: 0.696 ;IOU accuracy: 0.761 ;Time: 0:01:17 \n",
      "\n",
      "Testing, epoch: 3\n",
      "Batch: 0 ;loss: 1.993 ;acc: 0.450 ;iou_acc: 0.560 ;time: 0:01:17\n",
      "Batch: 100 ;loss: 2.116 ;acc: 0.520 ;iou_acc: 0.640 ;time: 0:01:29\n",
      "Batch: 200 ;loss: 2.020 ;acc: 0.470 ;iou_acc: 0.530 ;time: 0:01:42\n",
      "Batch: 300 ;loss: 2.036 ;acc: 0.540 ;iou_acc: 0.610 ;time: 0:01:56\n",
      "Batch: 400 ;loss: 1.877 ;acc: 0.530 ;iou_acc: 0.570 ;time: 0:02:10\n",
      "Batch: 500 ;loss: 2.070 ;acc: 0.470 ;iou_acc: 0.600 ;time: 0:02:23\n",
      "\n",
      "*Test loss: 1.976 ;Test accuracy 0.514 ;IOU accuracy: 0.610 ;Time: 0:02:35\n",
      "================================================== \n",
      "Train, epoch: 4\n",
      "epoch: 4 ;batch: 0 ;gs: 2377 ;lr: 0.0500 ;loss: 1.75 ;acc: 0.660 ;iou: 0.740 ;time: 0:00:00\n",
      "epoch: 4 ;batch: 100 ;gs: 2477 ;lr: 0.0500 ;loss: 1.77 ;acc: 0.720 ;iou: 0.810 ;time: 0:00:13\n",
      "epoch: 4 ;batch: 200 ;gs: 2577 ;lr: 0.0500 ;loss: 1.93 ;acc: 0.650 ;iou: 0.740 ;time: 0:00:26\n",
      "epoch: 4 ;batch: 300 ;gs: 2677 ;lr: 0.0500 ;loss: 1.66 ;acc: 0.750 ;iou: 0.840 ;time: 0:00:40\n",
      "epoch: 4 ;batch: 400 ;gs: 2777 ;lr: 0.0500 ;loss: 1.90 ;acc: 0.660 ;iou: 0.720 ;time: 0:00:51\n",
      "epoch: 4 ;batch: 500 ;gs: 2877 ;lr: 0.0500 ;loss: 1.84 ;acc: 0.740 ;iou: 0.780 ;time: 0:01:05\n",
      "\n",
      "*Train loss: 1.834 ;Train accuracy: 0.697 ;IOU accuracy: 0.760 ;Time: 0:01:16 \n",
      "\n",
      "Testing, epoch: 4\n",
      "Batch: 0 ;loss: 2.022 ;acc: 0.470 ;iou_acc: 0.610 ;time: 0:01:17\n",
      "Batch: 100 ;loss: 2.187 ;acc: 0.490 ;iou_acc: 0.570 ;time: 0:01:29\n",
      "Batch: 200 ;loss: 2.036 ;acc: 0.480 ;iou_acc: 0.540 ;time: 0:01:42\n",
      "Batch: 300 ;loss: 2.068 ;acc: 0.520 ;iou_acc: 0.600 ;time: 0:01:56\n",
      "Batch: 400 ;loss: 1.953 ;acc: 0.500 ;iou_acc: 0.560 ;time: 0:02:09\n",
      "Batch: 500 ;loss: 2.080 ;acc: 0.450 ;iou_acc: 0.580 ;time: 0:02:21\n",
      "\n",
      "*Test loss: 2.014 ;Test accuracy 0.503 ;IOU accuracy: 0.598 ;Time: 0:02:33\n",
      "================================================== \n",
      "Train, epoch: 5\n",
      "epoch: 5 ;batch: 0 ;gs: 2971 ;lr: 0.0500 ;loss: 1.74 ;acc: 0.740 ;iou: 0.780 ;time: 0:00:00\n",
      "epoch: 5 ;batch: 100 ;gs: 3071 ;lr: 0.0500 ;loss: 1.86 ;acc: 0.650 ;iou: 0.690 ;time: 0:00:12\n",
      "epoch: 5 ;batch: 200 ;gs: 3171 ;lr: 0.0500 ;loss: 1.90 ;acc: 0.660 ;iou: 0.740 ;time: 0:00:26\n",
      "epoch: 5 ;batch: 300 ;gs: 3271 ;lr: 0.0500 ;loss: 1.84 ;acc: 0.680 ;iou: 0.760 ;time: 0:00:39\n",
      "epoch: 5 ;batch: 400 ;gs: 3371 ;lr: 0.0500 ;loss: 1.84 ;acc: 0.660 ;iou: 0.720 ;time: 0:00:52\n",
      "epoch: 5 ;batch: 500 ;gs: 3471 ;lr: 0.0500 ;loss: 1.88 ;acc: 0.680 ;iou: 0.730 ;time: 0:01:06\n",
      "\n",
      "*Train loss: 1.863 ;Train accuracy: 0.689 ;IOU accuracy: 0.751 ;Time: 0:01:18 \n",
      "\n",
      "Testing, epoch: 5\n",
      "Batch: 0 ;loss: 2.112 ;acc: 0.460 ;iou_acc: 0.560 ;time: 0:01:18\n",
      "Batch: 100 ;loss: 2.239 ;acc: 0.450 ;iou_acc: 0.590 ;time: 0:01:31\n",
      "Batch: 200 ;loss: 2.025 ;acc: 0.510 ;iou_acc: 0.540 ;time: 0:01:43\n",
      "Batch: 300 ;loss: 2.107 ;acc: 0.490 ;iou_acc: 0.600 ;time: 0:01:57\n",
      "Batch: 400 ;loss: 1.968 ;acc: 0.480 ;iou_acc: 0.530 ;time: 0:02:11\n",
      "Batch: 500 ;loss: 2.095 ;acc: 0.490 ;iou_acc: 0.610 ;time: 0:02:25\n",
      "\n",
      "*Test loss: 2.045 ;Test accuracy 0.495 ;IOU accuracy: 0.590 ;Time: 0:02:38\n",
      "================================================== \n",
      "Train, epoch: 6\n",
      "epoch: 6 ;batch: 0 ;gs: 3565 ;lr: 0.0500 ;loss: 1.62 ;acc: 0.770 ;iou: 0.830 ;time: 0:00:00\n",
      "epoch: 6 ;batch: 100 ;gs: 3665 ;lr: 0.0500 ;loss: 1.97 ;acc: 0.670 ;iou: 0.760 ;time: 0:00:12\n",
      "epoch: 6 ;batch: 200 ;gs: 3765 ;lr: 0.0500 ;loss: 1.93 ;acc: 0.680 ;iou: 0.760 ;time: 0:00:25\n",
      "epoch: 6 ;batch: 300 ;gs: 3865 ;lr: 0.0500 ;loss: 1.84 ;acc: 0.750 ;iou: 0.810 ;time: 0:00:38\n",
      "epoch: 6 ;batch: 400 ;gs: 3965 ;lr: 0.0500 ;loss: 1.97 ;acc: 0.710 ;iou: 0.740 ;time: 0:00:50\n",
      "epoch: 6 ;batch: 500 ;gs: 4065 ;lr: 0.0500 ;loss: 1.83 ;acc: 0.670 ;iou: 0.730 ;time: 0:01:03\n",
      "\n",
      "*Train loss: 1.900 ;Train accuracy: 0.679 ;IOU accuracy: 0.742 ;Time: 0:01:15 \n",
      "\n",
      "Testing, epoch: 6\n",
      "Batch: 0 ;loss: 2.161 ;acc: 0.460 ;iou_acc: 0.560 ;time: 0:01:15\n",
      "Batch: 100 ;loss: 2.262 ;acc: 0.430 ;iou_acc: 0.520 ;time: 0:01:28\n",
      "Batch: 200 ;loss: 2.103 ;acc: 0.440 ;iou_acc: 0.530 ;time: 0:01:41\n"
     ]
    },
    {
     "name": "stdout",
     "output_type": "stream",
     "text": [
      "Batch: 300 ;loss: 2.141 ;acc: 0.480 ;iou_acc: 0.600 ;time: 0:01:54\n",
      "Batch: 400 ;loss: 2.049 ;acc: 0.460 ;iou_acc: 0.520 ;time: 0:02:06\n",
      "Batch: 500 ;loss: 2.153 ;acc: 0.470 ;iou_acc: 0.590 ;time: 0:02:19\n",
      "\n",
      "*Test loss: 2.102 ;Test accuracy 0.477 ;IOU accuracy: 0.573 ;Time: 0:02:31\n",
      "================================================== \n",
      "Train, epoch: 7\n",
      "epoch: 7 ;batch: 0 ;gs: 4159 ;lr: 0.0500 ;loss: 1.75 ;acc: 0.760 ;iou: 0.800 ;time: 0:00:00\n",
      "epoch: 7 ;batch: 100 ;gs: 4259 ;lr: 0.0500 ;loss: 1.99 ;acc: 0.740 ;iou: 0.760 ;time: 0:00:13\n",
      "epoch: 7 ;batch: 200 ;gs: 4359 ;lr: 0.0500 ;loss: 2.03 ;acc: 0.690 ;iou: 0.720 ;time: 0:00:26\n",
      "epoch: 7 ;batch: 300 ;gs: 4459 ;lr: 0.0500 ;loss: 1.95 ;acc: 0.700 ;iou: 0.750 ;time: 0:00:40\n",
      "epoch: 7 ;batch: 400 ;gs: 4559 ;lr: 0.0500 ;loss: 1.91 ;acc: 0.700 ;iou: 0.740 ;time: 0:00:52\n",
      "epoch: 7 ;batch: 500 ;gs: 4659 ;lr: 0.0500 ;loss: 2.03 ;acc: 0.610 ;iou: 0.650 ;time: 0:01:05\n",
      "\n",
      "*Train loss: 1.989 ;Train accuracy: 0.653 ;IOU accuracy: 0.719 ;Time: 0:01:17 \n",
      "\n",
      "Testing, epoch: 7\n",
      "Batch: 0 ;loss: 2.176 ;acc: 0.440 ;iou_acc: 0.540 ;time: 0:01:17\n",
      "Batch: 100 ;loss: 2.229 ;acc: 0.450 ;iou_acc: 0.530 ;time: 0:01:29\n",
      "Batch: 200 ;loss: 2.138 ;acc: 0.430 ;iou_acc: 0.560 ;time: 0:01:42\n",
      "Batch: 300 ;loss: 2.195 ;acc: 0.460 ;iou_acc: 0.560 ;time: 0:01:55\n",
      "Batch: 400 ;loss: 2.134 ;acc: 0.430 ;iou_acc: 0.510 ;time: 0:02:08\n",
      "Batch: 500 ;loss: 2.216 ;acc: 0.410 ;iou_acc: 0.550 ;time: 0:02:21\n",
      "\n",
      "*Test loss: 2.160 ;Test accuracy 0.456 ;IOU accuracy: 0.555 ;Time: 0:02:33\n",
      "================================================== \n",
      "Train, epoch: 8\n",
      "epoch: 8 ;batch: 0 ;gs: 4753 ;lr: 0.0500 ;loss: 1.94 ;acc: 0.670 ;iou: 0.780 ;time: 0:00:00\n",
      "epoch: 8 ;batch: 100 ;gs: 4853 ;lr: 0.0500 ;loss: 2.25 ;acc: 0.630 ;iou: 0.690 ;time: 0:00:12\n",
      "epoch: 8 ;batch: 200 ;gs: 4953 ;lr: 0.0500 ;loss: 2.03 ;acc: 0.710 ;iou: 0.760 ;time: 0:00:24\n",
      "epoch: 8 ;batch: 300 ;gs: 5053 ;lr: 0.0500 ;loss: 1.99 ;acc: 0.640 ;iou: 0.700 ;time: 0:00:36\n",
      "epoch: 8 ;batch: 400 ;gs: 5153 ;lr: 0.0500 ;loss: 2.15 ;acc: 0.560 ;iou: 0.630 ;time: 0:00:49\n",
      "epoch: 8 ;batch: 500 ;gs: 5253 ;lr: 0.0500 ;loss: 1.95 ;acc: 0.690 ;iou: 0.740 ;time: 0:01:02\n",
      "\n",
      "*Train loss: 2.027 ;Train accuracy: 0.637 ;IOU accuracy: 0.702 ;Time: 0:01:13 \n",
      "\n",
      "Testing, epoch: 8\n",
      "Batch: 0 ;loss: 2.180 ;acc: 0.420 ;iou_acc: 0.550 ;time: 0:01:13\n",
      "Batch: 100 ;loss: 2.222 ;acc: 0.460 ;iou_acc: 0.510 ;time: 0:01:26\n",
      "Batch: 200 ;loss: 2.054 ;acc: 0.480 ;iou_acc: 0.560 ;time: 0:01:38\n",
      "Batch: 300 ;loss: 2.185 ;acc: 0.480 ;iou_acc: 0.560 ;time: 0:01:51\n",
      "Batch: 400 ;loss: 2.088 ;acc: 0.430 ;iou_acc: 0.510 ;time: 0:02:04\n",
      "Batch: 500 ;loss: 2.121 ;acc: 0.500 ;iou_acc: 0.650 ;time: 0:02:17\n",
      "\n",
      "*Test loss: 2.142 ;Test accuracy 0.463 ;IOU accuracy: 0.558 ;Time: 0:02:29\n",
      "================================================== \n",
      "Train, epoch: 9\n",
      "epoch: 9 ;batch: 0 ;gs: 5347 ;lr: 0.0500 ;loss: 1.91 ;acc: 0.690 ;iou: 0.740 ;time: 0:00:00\n",
      "epoch: 9 ;batch: 100 ;gs: 5447 ;lr: 0.0500 ;loss: 1.92 ;acc: 0.660 ;iou: 0.710 ;time: 0:00:13\n",
      "epoch: 9 ;batch: 200 ;gs: 5547 ;lr: 0.0500 ;loss: 1.96 ;acc: 0.610 ;iou: 0.660 ;time: 0:00:25\n",
      "epoch: 9 ;batch: 300 ;gs: 5647 ;lr: 0.0500 ;loss: 2.13 ;acc: 0.580 ;iou: 0.640 ;time: 0:00:37\n",
      "epoch: 9 ;batch: 400 ;gs: 5747 ;lr: 0.0500 ;loss: 2.18 ;acc: 0.530 ;iou: 0.570 ;time: 0:00:50\n",
      "epoch: 9 ;batch: 500 ;gs: 5847 ;lr: 0.0500 ;loss: 2.08 ;acc: 0.620 ;iou: 0.710 ;time: 0:01:02\n",
      "\n",
      "*Train loss: 2.039 ;Train accuracy: 0.626 ;IOU accuracy: 0.694 ;Time: 0:01:15 \n",
      "\n",
      "Testing, epoch: 9\n",
      "Batch: 0 ;loss: 2.264 ;acc: 0.410 ;iou_acc: 0.530 ;time: 0:01:15\n",
      "Batch: 100 ;loss: 2.337 ;acc: 0.360 ;iou_acc: 0.430 ;time: 0:01:27\n",
      "Batch: 200 ;loss: 2.245 ;acc: 0.370 ;iou_acc: 0.440 ;time: 0:01:40\n",
      "Batch: 300 ;loss: 2.252 ;acc: 0.450 ;iou_acc: 0.550 ;time: 0:01:53\n",
      "Batch: 400 ;loss: 2.218 ;acc: 0.440 ;iou_acc: 0.510 ;time: 0:02:06\n",
      "Batch: 500 ;loss: 2.205 ;acc: 0.490 ;iou_acc: 0.590 ;time: 0:02:18\n",
      "\n",
      "*Test loss: 2.227 ;Test accuracy 0.435 ;IOU accuracy: 0.531 ;Time: 0:02:31\n",
      "================================================== \n",
      "\n"
     ]
    }
   ],
   "source": [
    "test_res, train_res = [], []\n",
    "\n",
    "print('params_dir:', params_dir, '\\n')\n",
    "tst, trn = m.train(trainset, testset,\n",
    "        epochs_num=10)  \n",
    "\n",
    "test_res.append(tst)\n",
    "train_res.append(trn)"
   ]
  },
  {
   "cell_type": "code",
   "execution_count": 6,
   "metadata": {},
   "outputs": [
    {
     "name": "stdout",
     "output_type": "stream",
     "text": [
      "Train accuracy:0.697\n",
      "Test accuracy:0.523\n",
      "Train P@1:0.761\n",
      "Test P@1:0.621\n",
      "Train loss loss:1.824\n",
      "Test loss loss:1.944\n"
     ]
    },
    {
     "data": {
      "image/png": "[encoded data removed]",
      "text/plain": [
       "<Figure size 864x288 with 3 Axes>"
      ]
     },
     "metadata": {},
     "output_type": "display_data"
    },
    {
     "name": "stdout",
     "output_type": "stream",
     "text": [
      "---------------------------------------------------------------------------------------------------- \n",
      "\n"
     ]
    }
   ],
   "source": [
    "f = stats([tst], [trn], epochs=10, params=[200])"
   ]
  },
  {
   "cell_type": "code",
   "execution_count": null,
   "metadata": {
    "collapsed": true
   },
   "outputs": [],
   "source": []
  }
 ],
 "metadata": {
  "anaconda-cloud": {},
  "kernelspec": {
   "display_name": "Python (tensorflow)",
   "language": "python",
   "name": "tensorflow"
  },
  "language_info": {
   "codemirror_mode": {
    "name": "ipython",
    "version": 3
   },
   "file_extension": ".py",
   "mimetype": "text/x-python",
   "name": "python",
   "nbconvert_exporter": "python",
   "pygments_lexer": "ipython3",
   "version": "3.6.4"
  }
 },
 "nbformat": 4,
 "nbformat_minor": 1
}
