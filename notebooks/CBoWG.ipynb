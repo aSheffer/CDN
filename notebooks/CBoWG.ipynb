{
 "cells": [
  {
   "cell_type": "markdown",
   "metadata": {},
   "source": [
    "# Continuous Bag of Words Grounder (CBoWG)\n",
    "\n",
    "In order to shed some light about the importance of syntax to our task, we wanted to examine the impact of ignoring it. Thus, CBoWG's language model uses only a trainable words embeddings. It embeds each query by summing its words vectors and calculates the similarity between the query and each of the candidates bboxes (bounding boxes) via the cosine similarity between their embeddings. The image model remains the same as in all our models. "
   ]
  },
  {
   "cell_type": "code",
   "execution_count": 1,
   "metadata": {},
   "outputs": [],
   "source": [
    "import numpy as np\n",
    "import tensorflow as tf\n",
    "import json\n",
    "from datetime import datetime\n",
    "import os\n",
    "import sys\n",
    "sys.path.append('../')\n",
    "sys.path.append('../models/')\n",
    "from stats import stats\n",
    "import retriever\n",
    "from tabulate import tabulate\n",
    "from CBoWG import Model\n",
    "\n",
    "%matplotlib inline  "
   ]
  },
  {
   "cell_type": "code",
   "execution_count": 2,
   "metadata": {},
   "outputs": [],
   "source": [
    "trainset_file = '../data/training/train_data.bin'\n",
    "testset_file = '../data/training/test_data.bin'\n",
    "vocab_file =  '../data/metadata/vocab.json'\n",
    "params_dir_tmp = '../data/training/models/CBoWG/'"
   ]
  },
  {
   "cell_type": "code",
   "execution_count": 3,
   "metadata": {},
   "outputs": [
    {
     "name": "stdout",
     "output_type": "stream",
     "text": [
      "Number of words: 8916\n"
     ]
    }
   ],
   "source": [
    "trainset = np.load(open(trainset_file, 'rb'))\n",
    "\n",
    "# delete data points where the query length is zero\n",
    "trainset = np.array([item for item in trainset if len(item[0])!=0])\n",
    "\n",
    "testset = np.load(open(testset_file, 'rb'))\n",
    "\n",
    "# delete data points where the query length is zero\n",
    "testset = np.array([item for item in testset if len(item[0])!=0])\n",
    "\n",
    "# loading vocabulary \n",
    "with open(vocab_file, 'r') as f:\n",
    "    vocab = json.loads(f.read())\n",
    "vocab['<unk>'] = len(vocab)\n",
    "\n",
    "print(\"Number of words:\", len(vocab))"
   ]
  },
  {
   "cell_type": "code",
   "execution_count": 4,
   "metadata": {},
   "outputs": [],
   "source": [
    "tf.reset_default_graph()\n",
    "params_dir = params_dir_tmp+'params'\n",
    "m = Model(\n",
    "    batch_size=100, \n",
    "    img_dims=trainset[0][1][0].shape[1], \n",
    "    bbox_dims=trainset[0][1][1].shape[1], \n",
    "    lr=.05,\n",
    "    vocab=vocab, \n",
    "    decay_steps=10000, \n",
    "    decay_rate=0.99,\n",
    "    params_dir=params_dir\n",
    ")"
   ]
  },
  {
   "cell_type": "markdown",
   "metadata": {},
   "source": [
    "<p>As expected, since this model's capacity is significantly smaller than SG, overfitting is less of a problem. Moreover, unlike what we saw with SG without regularization, the loss and P@1 on both the test and train sets decrease more or less together and the loss increasement corresponds to the P@1 decreasement .</p>\n",
    "\n",
    "<p>We can see that CBoWG gets to the optimal results at the third epoch with relatively small overfitting. This means that the cause for its poor results is not overfitting but the lack of valuable information to learn from. Therefore, we should compare it to other models with good regularization capabilities (e.g. SG+CDN) where we see much better results.</p>"
   ]
  },
  {
   "cell_type": "code",
   "execution_count": 14,
   "metadata": {
    "scrolled": true
   },
   "outputs": [
    {
     "name": "stdout",
     "output_type": "stream",
     "text": [
      "params_dir: ../data/training/models/CBoWG/params \n",
      "\n",
      "Initializing variables\n",
      "================================================== \n",
      "Train, epoch: 0\n",
      "epoch: 0 ;batch: 0 ;gs: 1 ;lr: 0.0500 ;loss: 2.97 ;acc: 0.510 ;iou: 0.610 ;time: 0:00:00\n",
      "epoch: 0 ;batch: 100 ;gs: 101 ;lr: 0.0500 ;loss: 2.03 ;acc: 0.660 ;iou: 0.760 ;time: 0:00:14\n",
      "epoch: 0 ;batch: 200 ;gs: 201 ;lr: 0.0500 ;loss: 1.99 ;acc: 0.590 ;iou: 0.660 ;time: 0:00:27\n",
      "epoch: 0 ;batch: 300 ;gs: 301 ;lr: 0.0500 ;loss: 2.22 ;acc: 0.520 ;iou: 0.610 ;time: 0:00:39\n",
      "epoch: 0 ;batch: 400 ;gs: 401 ;lr: 0.0500 ;loss: 1.77 ;acc: 0.770 ;iou: 0.800 ;time: 0:00:51\n",
      "epoch: 0 ;batch: 500 ;gs: 501 ;lr: 0.0500 ;loss: 2.06 ;acc: 0.590 ;iou: 0.720 ;time: 0:01:04\n",
      "\n",
      "*Train loss: 2.028 ;Train accuracy: 0.626 ;IOU accuracy: 0.705 ;Time: 0:01:16 \n",
      "\n",
      "Testing, epoch: 0\n",
      "Batch: 0 ;loss: 1.987 ;acc: 0.510 ;iou_acc: 0.640 ;time: 0:01:16\n",
      "Batch: 100 ;loss: 2.200 ;acc: 0.470 ;iou_acc: 0.610 ;time: 0:01:28\n",
      "Batch: 200 ;loss: 2.053 ;acc: 0.440 ;iou_acc: 0.520 ;time: 0:01:40\n",
      "Batch: 300 ;loss: 1.923 ;acc: 0.540 ;iou_acc: 0.620 ;time: 0:01:54\n",
      "Batch: 400 ;loss: 1.933 ;acc: 0.470 ;iou_acc: 0.520 ;time: 0:02:07\n",
      "Batch: 500 ;loss: 2.006 ;acc: 0.490 ;iou_acc: 0.630 ;time: 0:02:20\n",
      "\n",
      "*Test loss: 1.939 ;Test accuracy 0.523 ;IOU accuracy: 0.620 ;Time: 0:02:32\n",
      "================================================== \n",
      "Train, epoch: 1\n",
      "epoch: 1 ;batch: 0 ;gs: 595 ;lr: 0.0500 ;loss: 1.78 ;acc: 0.690 ;iou: 0.780 ;time: 0:00:01\n",
      "epoch: 1 ;batch: 100 ;gs: 695 ;lr: 0.0500 ;loss: 1.97 ;acc: 0.650 ;iou: 0.770 ;time: 0:00:14\n",
      "epoch: 1 ;batch: 200 ;gs: 795 ;lr: 0.0500 ;loss: 1.83 ;acc: 0.680 ;iou: 0.720 ;time: 0:00:28\n",
      "epoch: 1 ;batch: 300 ;gs: 895 ;lr: 0.0500 ;loss: 1.72 ;acc: 0.670 ;iou: 0.730 ;time: 0:00:40\n",
      "epoch: 1 ;batch: 400 ;gs: 995 ;lr: 0.0500 ;loss: 1.86 ;acc: 0.660 ;iou: 0.760 ;time: 0:00:53\n",
      "epoch: 1 ;batch: 500 ;gs: 1095 ;lr: 0.0500 ;loss: 1.99 ;acc: 0.620 ;iou: 0.650 ;time: 0:01:05\n",
      "\n",
      "*Train loss: 1.836 ;Train accuracy: 0.678 ;IOU accuracy: 0.747 ;Time: 0:01:16 \n",
      "\n",
      "Testing, epoch: 1\n",
      "Batch: 0 ;loss: 1.964 ;acc: 0.510 ;iou_acc: 0.610 ;time: 0:01:17\n",
      "Batch: 100 ;loss: 2.159 ;acc: 0.460 ;iou_acc: 0.570 ;time: 0:01:29\n",
      "Batch: 200 ;loss: 2.041 ;acc: 0.460 ;iou_acc: 0.560 ;time: 0:01:41\n",
      "Batch: 300 ;loss: 1.960 ;acc: 0.530 ;iou_acc: 0.590 ;time: 0:01:54\n",
      "Batch: 400 ;loss: 1.884 ;acc: 0.500 ;iou_acc: 0.540 ;time: 0:02:07\n",
      "Batch: 500 ;loss: 2.012 ;acc: 0.470 ;iou_acc: 0.580 ;time: 0:02:20\n",
      "\n",
      "*Test loss: 1.943 ;Test accuracy 0.524 ;IOU accuracy: 0.618 ;Time: 0:02:31\n",
      "================================================== \n",
      "Train, epoch: 2\n",
      "epoch: 2 ;batch: 0 ;gs: 1189 ;lr: 0.0500 ;loss: 1.69 ;acc: 0.680 ;iou: 0.710 ;time: 0:00:00\n",
      "epoch: 2 ;batch: 100 ;gs: 1289 ;lr: 0.0500 ;loss: 1.83 ;acc: 0.700 ;iou: 0.750 ;time: 0:00:13\n",
      "epoch: 2 ;batch: 200 ;gs: 1389 ;lr: 0.0500 ;loss: 1.91 ;acc: 0.630 ;iou: 0.740 ;time: 0:00:26\n",
      "epoch: 2 ;batch: 300 ;gs: 1489 ;lr: 0.0500 ;loss: 1.82 ;acc: 0.680 ;iou: 0.770 ;time: 0:00:38\n",
      "epoch: 2 ;batch: 400 ;gs: 1589 ;lr: 0.0500 ;loss: 1.88 ;acc: 0.710 ;iou: 0.760 ;time: 0:00:50\n",
      "epoch: 2 ;batch: 500 ;gs: 1689 ;lr: 0.0500 ;loss: 1.95 ;acc: 0.700 ;iou: 0.790 ;time: 0:01:03\n",
      "\n",
      "*Train loss: 1.804 ;Train accuracy: 0.697 ;IOU accuracy: 0.762 ;Time: 0:01:16 \n",
      "\n",
      "Testing, epoch: 2\n",
      "Batch: 0 ;loss: 1.983 ;acc: 0.480 ;iou_acc: 0.590 ;time: 0:01:16\n",
      "Batch: 100 ;loss: 2.123 ;acc: 0.460 ;iou_acc: 0.530 ;time: 0:01:28\n",
      "Batch: 200 ;loss: 2.064 ;acc: 0.460 ;iou_acc: 0.560 ;time: 0:01:40\n",
      "Batch: 300 ;loss: 1.932 ;acc: 0.550 ;iou_acc: 0.650 ;time: 0:01:54\n",
      "Batch: 400 ;loss: 1.913 ;acc: 0.460 ;iou_acc: 0.520 ;time: 0:02:07\n",
      "Batch: 500 ;loss: 2.082 ;acc: 0.440 ;iou_acc: 0.570 ;time: 0:02:19\n",
      "\n",
      "*Test loss: 1.932 ;Test accuracy 0.527 ;IOU accuracy: 0.622 ;Time: 0:02:31\n",
      "================================================== \n",
      "Train, epoch: 3\n",
      "epoch: 3 ;batch: 0 ;gs: 1783 ;lr: 0.0500 ;loss: 1.59 ;acc: 0.780 ;iou: 0.840 ;time: 0:00:00\n",
      "epoch: 3 ;batch: 100 ;gs: 1883 ;lr: 0.0500 ;loss: 1.78 ;acc: 0.730 ;iou: 0.800 ;time: 0:00:13\n",
      "epoch: 3 ;batch: 200 ;gs: 1983 ;lr: 0.0500 ;loss: 1.84 ;acc: 0.690 ;iou: 0.740 ;time: 0:00:25\n",
      "epoch: 3 ;batch: 300 ;gs: 2083 ;lr: 0.0500 ;loss: 1.58 ;acc: 0.810 ;iou: 0.850 ;time: 0:00:38\n",
      "epoch: 3 ;batch: 400 ;gs: 2183 ;lr: 0.0500 ;loss: 1.86 ;acc: 0.720 ;iou: 0.790 ;time: 0:00:50\n",
      "epoch: 3 ;batch: 500 ;gs: 2283 ;lr: 0.0500 ;loss: 1.68 ;acc: 0.740 ;iou: 0.790 ;time: 0:01:03\n",
      "\n",
      "*Train loss: 1.794 ;Train accuracy: 0.710 ;IOU accuracy: 0.771 ;Time: 0:01:15 \n",
      "\n",
      "Testing, epoch: 3\n",
      "Batch: 0 ;loss: 2.058 ;acc: 0.510 ;iou_acc: 0.610 ;time: 0:01:15\n",
      "Batch: 100 ;loss: 2.037 ;acc: 0.540 ;iou_acc: 0.640 ;time: 0:01:27\n",
      "Batch: 200 ;loss: 2.039 ;acc: 0.460 ;iou_acc: 0.550 ;time: 0:01:40\n",
      "Batch: 300 ;loss: 1.938 ;acc: 0.550 ;iou_acc: 0.630 ;time: 0:01:53\n",
      "Batch: 400 ;loss: 1.863 ;acc: 0.550 ;iou_acc: 0.590 ;time: 0:02:07\n",
      "Batch: 500 ;loss: 1.964 ;acc: 0.540 ;iou_acc: 0.650 ;time: 0:02:20\n",
      "\n",
      "*Test loss: 1.950 ;Test accuracy 0.524 ;IOU accuracy: 0.618 ;Time: 0:02:32\n",
      "================================================== \n",
      "Train, epoch: 4\n",
      "epoch: 4 ;batch: 0 ;gs: 2377 ;lr: 0.0500 ;loss: 1.62 ;acc: 0.740 ;iou: 0.800 ;time: 0:00:00\n",
      "epoch: 4 ;batch: 100 ;gs: 2477 ;lr: 0.0500 ;loss: 1.96 ;acc: 0.660 ;iou: 0.770 ;time: 0:00:12\n",
      "epoch: 4 ;batch: 200 ;gs: 2577 ;lr: 0.0500 ;loss: 1.73 ;acc: 0.700 ;iou: 0.780 ;time: 0:00:26\n",
      "epoch: 4 ;batch: 300 ;gs: 2677 ;lr: 0.0500 ;loss: 1.95 ;acc: 0.650 ;iou: 0.750 ;time: 0:00:38\n",
      "epoch: 4 ;batch: 400 ;gs: 2777 ;lr: 0.0500 ;loss: 1.74 ;acc: 0.690 ;iou: 0.780 ;time: 0:00:51\n",
      "epoch: 4 ;batch: 500 ;gs: 2877 ;lr: 0.0500 ;loss: 1.94 ;acc: 0.660 ;iou: 0.790 ;time: 0:01:05\n",
      "\n",
      "*Train loss: 1.792 ;Train accuracy: 0.713 ;IOU accuracy: 0.774 ;Time: 0:01:17 \n",
      "\n",
      "Testing, epoch: 4\n",
      "Batch: 0 ;loss: 2.034 ;acc: 0.500 ;iou_acc: 0.620 ;time: 0:01:17\n",
      "Batch: 100 ;loss: 2.029 ;acc: 0.560 ;iou_acc: 0.670 ;time: 0:01:30\n",
      "Batch: 200 ;loss: 2.121 ;acc: 0.470 ;iou_acc: 0.580 ;time: 0:01:43\n",
      "Batch: 300 ;loss: 2.011 ;acc: 0.550 ;iou_acc: 0.630 ;time: 0:01:56\n",
      "Batch: 400 ;loss: 1.995 ;acc: 0.470 ;iou_acc: 0.530 ;time: 0:02:09\n",
      "Batch: 500 ;loss: 2.022 ;acc: 0.450 ;iou_acc: 0.540 ;time: 0:02:23\n",
      "\n",
      "*Test loss: 1.983 ;Test accuracy 0.512 ;IOU accuracy: 0.609 ;Time: 0:02:35\n",
      "================================================== \n",
      "Train, epoch: 5\n",
      "epoch: 5 ;batch: 0 ;gs: 2971 ;lr: 0.0500 ;loss: 1.68 ;acc: 0.740 ;iou: 0.780 ;time: 0:00:00\n",
      "epoch: 5 ;batch: 100 ;gs: 3071 ;lr: 0.0500 ;loss: 1.90 ;acc: 0.690 ;iou: 0.740 ;time: 0:00:13\n",
      "epoch: 5 ;batch: 200 ;gs: 3171 ;lr: 0.0500 ;loss: 1.74 ;acc: 0.640 ;iou: 0.710 ;time: 0:00:27\n",
      "epoch: 5 ;batch: 300 ;gs: 3271 ;lr: 0.0500 ;loss: 1.85 ;acc: 0.690 ;iou: 0.740 ;time: 0:00:40\n",
      "epoch: 5 ;batch: 400 ;gs: 3371 ;lr: 0.0500 ;loss: 1.76 ;acc: 0.740 ;iou: 0.810 ;time: 0:00:53\n",
      "epoch: 5 ;batch: 500 ;gs: 3471 ;lr: 0.0500 ;loss: 1.81 ;acc: 0.750 ;iou: 0.820 ;time: 0:01:07\n",
      "\n",
      "*Train loss: 1.812 ;Train accuracy: 0.712 ;IOU accuracy: 0.772 ;Time: 0:01:20 \n",
      "\n",
      "Testing, epoch: 5\n",
      "Batch: 0 ;loss: 2.091 ;acc: 0.470 ;iou_acc: 0.570 ;time: 0:01:20\n",
      "Batch: 100 ;loss: 2.079 ;acc: 0.510 ;iou_acc: 0.590 ;time: 0:01:33\n",
      "Batch: 200 ;loss: 2.132 ;acc: 0.440 ;iou_acc: 0.550 ;time: 0:01:46\n",
      "Batch: 300 ;loss: 2.003 ;acc: 0.510 ;iou_acc: 0.590 ;time: 0:01:59\n",
      "Batch: 400 ;loss: 1.975 ;acc: 0.460 ;iou_acc: 0.510 ;time: 0:02:12\n",
      "Batch: 500 ;loss: 2.038 ;acc: 0.480 ;iou_acc: 0.570 ;time: 0:02:25\n",
      "\n",
      "*Test loss: 2.001 ;Test accuracy 0.509 ;IOU accuracy: 0.607 ;Time: 0:02:37\n",
      "================================================== \n",
      "Train, epoch: 6\n",
      "epoch: 6 ;batch: 0 ;gs: 3565 ;lr: 0.0500 ;loss: 1.81 ;acc: 0.730 ;iou: 0.790 ;time: 0:00:00\n",
      "epoch: 6 ;batch: 100 ;gs: 3665 ;lr: 0.0500 ;loss: 1.80 ;acc: 0.770 ;iou: 0.850 ;time: 0:00:13\n",
      "epoch: 6 ;batch: 200 ;gs: 3765 ;lr: 0.0500 ;loss: 1.88 ;acc: 0.740 ;iou: 0.760 ;time: 0:00:26\n",
      "epoch: 6 ;batch: 300 ;gs: 3865 ;lr: 0.0500 ;loss: 1.88 ;acc: 0.690 ;iou: 0.720 ;time: 0:00:39\n",
      "epoch: 6 ;batch: 400 ;gs: 3965 ;lr: 0.0500 ;loss: 1.94 ;acc: 0.730 ;iou: 0.760 ;time: 0:00:52\n",
      "epoch: 6 ;batch: 500 ;gs: 4065 ;lr: 0.0500 ;loss: 1.85 ;acc: 0.660 ;iou: 0.750 ;time: 0:01:05\n",
      "\n",
      "*Train loss: 1.836 ;Train accuracy: 0.707 ;IOU accuracy: 0.769 ;Time: 0:01:17 \n",
      "\n",
      "Testing, epoch: 6\n",
      "Batch: 0 ;loss: 2.144 ;acc: 0.490 ;iou_acc: 0.590 ;time: 0:01:17\n",
      "Batch: 100 ;loss: 2.152 ;acc: 0.460 ;iou_acc: 0.570 ;time: 0:01:29\n",
      "Batch: 200 ;loss: 2.053 ;acc: 0.450 ;iou_acc: 0.570 ;time: 0:01:42\n"
     ]
    },
    {
     "name": "stdout",
     "output_type": "stream",
     "text": [
      "Batch: 300 ;loss: 2.035 ;acc: 0.570 ;iou_acc: 0.640 ;time: 0:01:55\n",
      "Batch: 400 ;loss: 2.066 ;acc: 0.480 ;iou_acc: 0.510 ;time: 0:02:08\n",
      "Batch: 500 ;loss: 2.108 ;acc: 0.510 ;iou_acc: 0.590 ;time: 0:02:21\n",
      "\n",
      "*Test loss: 2.033 ;Test accuracy 0.499 ;IOU accuracy: 0.595 ;Time: 0:02:33\n",
      "================================================== \n",
      "Train, epoch: 7\n",
      "epoch: 7 ;batch: 0 ;gs: 4159 ;lr: 0.0500 ;loss: 1.86 ;acc: 0.670 ;iou: 0.720 ;time: 0:00:00\n",
      "epoch: 7 ;batch: 100 ;gs: 4259 ;lr: 0.0500 ;loss: 1.96 ;acc: 0.690 ;iou: 0.710 ;time: 0:00:13\n",
      "epoch: 7 ;batch: 200 ;gs: 4359 ;lr: 0.0500 ;loss: 1.98 ;acc: 0.650 ;iou: 0.770 ;time: 0:00:26\n",
      "epoch: 7 ;batch: 300 ;gs: 4459 ;lr: 0.0500 ;loss: 1.81 ;acc: 0.700 ;iou: 0.770 ;time: 0:00:39\n",
      "epoch: 7 ;batch: 400 ;gs: 4559 ;lr: 0.0500 ;loss: 2.07 ;acc: 0.620 ;iou: 0.650 ;time: 0:00:52\n",
      "epoch: 7 ;batch: 500 ;gs: 4659 ;lr: 0.0500 ;loss: 1.94 ;acc: 0.670 ;iou: 0.730 ;time: 0:01:05\n",
      "\n",
      "*Train loss: 1.910 ;Train accuracy: 0.689 ;IOU accuracy: 0.752 ;Time: 0:01:18 \n",
      "\n",
      "Testing, epoch: 7\n",
      "Batch: 0 ;loss: 2.231 ;acc: 0.390 ;iou_acc: 0.490 ;time: 0:01:18\n",
      "Batch: 100 ;loss: 2.234 ;acc: 0.470 ;iou_acc: 0.550 ;time: 0:01:30\n",
      "Batch: 200 ;loss: 2.194 ;acc: 0.430 ;iou_acc: 0.540 ;time: 0:01:43\n",
      "Batch: 300 ;loss: 2.179 ;acc: 0.510 ;iou_acc: 0.600 ;time: 0:01:56\n",
      "Batch: 400 ;loss: 2.143 ;acc: 0.450 ;iou_acc: 0.480 ;time: 0:02:09\n",
      "Batch: 500 ;loss: 2.151 ;acc: 0.500 ;iou_acc: 0.570 ;time: 0:02:22\n",
      "\n",
      "*Test loss: 2.129 ;Test accuracy 0.470 ;IOU accuracy: 0.572 ;Time: 0:02:35\n",
      "================================================== \n",
      "Train, epoch: 8\n",
      "epoch: 8 ;batch: 0 ;gs: 4753 ;lr: 0.0500 ;loss: 1.87 ;acc: 0.750 ;iou: 0.780 ;time: 0:00:00\n",
      "epoch: 8 ;batch: 100 ;gs: 4853 ;lr: 0.0500 ;loss: 2.03 ;acc: 0.620 ;iou: 0.720 ;time: 0:00:12\n",
      "epoch: 8 ;batch: 200 ;gs: 4953 ;lr: 0.0500 ;loss: 2.05 ;acc: 0.620 ;iou: 0.710 ;time: 0:00:25\n",
      "epoch: 8 ;batch: 300 ;gs: 5053 ;lr: 0.0500 ;loss: 2.23 ;acc: 0.600 ;iou: 0.640 ;time: 0:00:38\n",
      "epoch: 8 ;batch: 400 ;gs: 5153 ;lr: 0.0500 ;loss: 2.21 ;acc: 0.560 ;iou: 0.600 ;time: 0:00:50\n",
      "epoch: 8 ;batch: 500 ;gs: 5253 ;lr: 0.0500 ;loss: 2.25 ;acc: 0.530 ;iou: 0.620 ;time: 0:01:04\n",
      "\n",
      "*Train loss: 1.959 ;Train accuracy: 0.670 ;IOU accuracy: 0.734 ;Time: 0:01:16 \n",
      "\n",
      "Testing, epoch: 8\n",
      "Batch: 0 ;loss: 2.121 ;acc: 0.440 ;iou_acc: 0.540 ;time: 0:01:16\n",
      "Batch: 100 ;loss: 2.149 ;acc: 0.510 ;iou_acc: 0.580 ;time: 0:01:28\n",
      "Batch: 200 ;loss: 2.176 ;acc: 0.440 ;iou_acc: 0.540 ;time: 0:01:41\n",
      "Batch: 300 ;loss: 2.214 ;acc: 0.460 ;iou_acc: 0.550 ;time: 0:01:54\n",
      "Batch: 400 ;loss: 2.176 ;acc: 0.480 ;iou_acc: 0.520 ;time: 0:02:07\n",
      "Batch: 500 ;loss: 2.186 ;acc: 0.440 ;iou_acc: 0.540 ;time: 0:02:20\n",
      "\n",
      "*Test loss: 2.118 ;Test accuracy 0.473 ;IOU accuracy: 0.570 ;Time: 0:02:32\n",
      "================================================== \n",
      "Train, epoch: 9\n",
      "epoch: 9 ;batch: 0 ;gs: 5347 ;lr: 0.0500 ;loss: 1.88 ;acc: 0.710 ;iou: 0.770 ;time: 0:00:00\n",
      "epoch: 9 ;batch: 100 ;gs: 5447 ;lr: 0.0500 ;loss: 1.88 ;acc: 0.700 ;iou: 0.760 ;time: 0:00:13\n",
      "epoch: 9 ;batch: 200 ;gs: 5547 ;lr: 0.0500 ;loss: 2.04 ;acc: 0.640 ;iou: 0.710 ;time: 0:00:26\n",
      "epoch: 9 ;batch: 300 ;gs: 5647 ;lr: 0.0500 ;loss: 1.98 ;acc: 0.640 ;iou: 0.750 ;time: 0:00:38\n",
      "epoch: 9 ;batch: 400 ;gs: 5747 ;lr: 0.0500 ;loss: 2.01 ;acc: 0.720 ;iou: 0.800 ;time: 0:00:51\n",
      "epoch: 9 ;batch: 500 ;gs: 5847 ;lr: 0.0500 ;loss: 2.03 ;acc: 0.660 ;iou: 0.680 ;time: 0:01:04\n",
      "\n",
      "*Train loss: 1.998 ;Train accuracy: 0.660 ;IOU accuracy: 0.725 ;Time: 0:01:16 \n",
      "\n",
      "Testing, epoch: 9\n",
      "Batch: 0 ;loss: 2.223 ;acc: 0.460 ;iou_acc: 0.540 ;time: 0:01:17\n",
      "Batch: 100 ;loss: 2.163 ;acc: 0.490 ;iou_acc: 0.600 ;time: 0:01:29\n",
      "Batch: 200 ;loss: 2.213 ;acc: 0.480 ;iou_acc: 0.580 ;time: 0:01:42\n",
      "Batch: 300 ;loss: 2.229 ;acc: 0.490 ;iou_acc: 0.570 ;time: 0:01:56\n",
      "Batch: 400 ;loss: 2.272 ;acc: 0.370 ;iou_acc: 0.440 ;time: 0:02:09\n",
      "Batch: 500 ;loss: 2.216 ;acc: 0.420 ;iou_acc: 0.530 ;time: 0:02:21\n",
      "\n",
      "*Test loss: 2.169 ;Test accuracy 0.458 ;IOU accuracy: 0.556 ;Time: 0:02:33\n",
      "================================================== \n",
      "\n"
     ]
    }
   ],
   "source": [
    "test_res, train_res = [], []\n",
    "\n",
    "print('params_dir:', params_dir, '\\n')\n",
    "tst, trn = m.train(trainset, testset,\n",
    "        epochs_num=10)  \n",
    "\n",
    "test_res.append(tst)\n",
    "train_res.append(trn)"
   ]
  },
  {
   "cell_type": "code",
   "execution_count": 21,
   "metadata": {},
   "outputs": [
    {
     "name": "stdout",
     "output_type": "stream",
     "text": [
      "Train accuracy:0.626\n",
      "Test accuracy:0.458\n",
      "Train P@1:0.705\n",
      "Test P@1:0.556\n",
      "Train loss:1.792\n",
      "Test loss:1.932\n"
     ]
    },
    {
     "data": {
      "image/png": "[encoded data removed]",
      "text/plain": [
       "<Figure size 864x288 with 3 Axes>"
      ]
     },
     "metadata": {},
     "output_type": "display_data"
    },
    {
     "name": "stdout",
     "output_type": "stream",
     "text": [
      "---------------------------------------------------------------------------------------------------- \n",
      "\n"
     ]
    }
   ],
   "source": [
    "f = stats([tst], [trn], epochs=10, params=[200])"
   ]
  },
  {
   "cell_type": "code",
   "execution_count": null,
   "metadata": {
    "collapsed": true
   },
   "outputs": [],
   "source": []
  }
 ],
 "metadata": {
  "anaconda-cloud": {},
  "kernelspec": {
   "display_name": "Python (tensorflow)",
   "language": "python",
   "name": "tensorflow"
  },
  "language_info": {
   "codemirror_mode": {
    "name": "ipython",
    "version": 3
   },
   "file_extension": ".py",
   "mimetype": "text/x-python",
   "name": "python",
   "nbconvert_exporter": "python",
   "pygments_lexer": "ipython3",
   "version": "3.6.4"
  }
 },
 "nbformat": 4,
 "nbformat_minor": 1
}
